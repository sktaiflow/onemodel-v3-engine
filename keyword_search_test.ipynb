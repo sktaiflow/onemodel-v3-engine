{
 "cells": [
  {
   "cell_type": "code",
   "execution_count": 1,
   "id": "587a759f-1155-4abe-9be3-2f57de03ba85",
   "metadata": {
    "execution": {
     "iopub.execute_input": "2024-05-24T06:51:23.247287Z",
     "iopub.status.busy": "2024-05-24T06:51:23.246766Z",
     "iopub.status.idle": "2024-05-24T06:51:23.465483Z",
     "shell.execute_reply": "2024-05-24T06:51:23.464700Z",
     "shell.execute_reply.started": "2024-05-24T06:51:23.247251Z"
    },
    "tags": []
   },
   "outputs": [],
   "source": [
    "from opensearchpy import helpers, OpenSearch"
   ]
  },
  {
   "cell_type": "code",
   "execution_count": 4,
   "id": "29a04e09-e2bd-4165-9b5a-f9f49113b5da",
   "metadata": {
    "execution": {
     "iopub.execute_input": "2024-05-24T06:51:51.411912Z",
     "iopub.status.busy": "2024-05-24T06:51:51.411493Z",
     "iopub.status.idle": "2024-05-24T06:51:51.415335Z",
     "shell.execute_reply": "2024-05-24T06:51:51.414717Z",
     "shell.execute_reply.started": "2024-05-24T06:51:51.411879Z"
    },
    "tags": []
   },
   "outputs": [],
   "source": [
    "stg_vpce_opensearch = \"aos-ef399bbbead7-qs5jilysrng2oxiiayoxwtklki.ap-northeast-2.es.amazonaws.com\"\n",
    "PORT = 443\n",
    "index_name = 'onemodel_v3_inital_test_20240512'"
   ]
  },
  {
   "cell_type": "code",
   "execution_count": 5,
   "id": "78eaf00f-72d8-4ba6-bd82-52ea47aaf587",
   "metadata": {
    "execution": {
     "iopub.execute_input": "2024-05-24T06:51:57.592526Z",
     "iopub.status.busy": "2024-05-24T06:51:57.591945Z",
     "iopub.status.idle": "2024-05-24T06:51:57.596544Z",
     "shell.execute_reply": "2024-05-24T06:51:57.595923Z",
     "shell.execute_reply.started": "2024-05-24T06:51:57.592485Z"
    },
    "tags": []
   },
   "outputs": [],
   "source": [
    "index_doc = {\"index\": index_name}"
   ]
  },
  {
   "cell_type": "code",
   "execution_count": 6,
   "id": "4c8a2488-1f47-4825-ab3c-c7b96fd773e6",
   "metadata": {
    "execution": {
     "iopub.execute_input": "2024-05-24T06:51:59.237362Z",
     "iopub.status.busy": "2024-05-24T06:51:59.236900Z",
     "iopub.status.idle": "2024-05-24T06:51:59.242992Z",
     "shell.execute_reply": "2024-05-24T06:51:59.242373Z",
     "shell.execute_reply.started": "2024-05-24T06:51:59.237327Z"
    },
    "tags": []
   },
   "outputs": [],
   "source": [
    "client = OpenSearch(\n",
    "    hosts = [{\"host\": stg_vpce_opensearch, \"port\": PORT}],\n",
    "    http_compress=True,\n",
    "    use_ssl=True,\n",
    "    verify_certs=True,\n",
    "    timeout=2,\n",
    "    pool_maxsize=40,\n",
    "    http_auth=(\"TheMasterUser\", \"Developer_rec_stg1!\"),\n",
    ")"
   ]
  },
  {
   "cell_type": "code",
   "execution_count": 7,
   "id": "2ecd78d6-8ec1-4ab8-8d44-0605f181ed53",
   "metadata": {
    "execution": {
     "iopub.execute_input": "2024-05-24T06:53:21.158388Z",
     "iopub.status.busy": "2024-05-24T06:53:21.157741Z",
     "iopub.status.idle": "2024-05-24T06:53:21.162307Z",
     "shell.execute_reply": "2024-05-24T06:53:21.161685Z",
     "shell.execute_reply.started": "2024-05-24T06:53:21.158339Z"
    },
    "tags": []
   },
   "outputs": [],
   "source": [
    "from typing import List"
   ]
  },
  {
   "cell_type": "code",
   "execution_count": 34,
   "id": "cd803111-fdc7-430f-991b-0625ac98fcfa",
   "metadata": {
    "execution": {
     "iopub.execute_input": "2024-05-24T06:58:12.778822Z",
     "iopub.status.busy": "2024-05-24T06:58:12.778372Z",
     "iopub.status.idle": "2024-05-24T06:58:12.783464Z",
     "shell.execute_reply": "2024-05-24T06:58:12.782872Z",
     "shell.execute_reply.started": "2024-05-24T06:58:12.778788Z"
    },
    "tags": []
   },
   "outputs": [
    {
     "data": {
      "text/plain": [
       "5"
      ]
     },
     "execution_count": 34,
     "metadata": {},
     "output_type": "execute_result"
    }
   ],
   "source": [
    "w = {}\n",
    "w.get('size', 5)"
   ]
  },
  {
   "cell_type": "code",
   "execution_count": 64,
   "id": "b5ea0401-5fab-44e7-bc63-eadfe94aedc9",
   "metadata": {
    "execution": {
     "iopub.execute_input": "2024-05-24T07:03:34.860521Z",
     "iopub.status.busy": "2024-05-24T07:03:34.860040Z",
     "iopub.status.idle": "2024-05-24T07:03:34.866714Z",
     "shell.execute_reply": "2024-05-24T07:03:34.866080Z",
     "shell.execute_reply.started": "2024-05-24T07:03:34.860485Z"
    },
    "tags": []
   },
   "outputs": [],
   "source": [
    "def get_base_query(source:List=[], must_query:List=[], should_query:List=[], filter_query:dict={}, W:dict={}, function_score_query:dict={}, functions:List=[]):\n",
    "\n",
    "    must_not_filter = filter_query.get('must_not', [])\n",
    "    must_filter = filter_query.get('must', [])\n",
    "    size = W.get(\"size\", 5)\n",
    "\n",
    "    base_query_dsl = {\n",
    "        \"_source\":source,\n",
    "        \"size\": size,\n",
    "        \"query\": {\n",
    "            \"bool\": {\n",
    "                        \"must\": [{\n",
    "                                    \"bool\":{\n",
    "                                        \"should\": must_query,\n",
    "                                        \"minimum_should_match\": 1\n",
    "                                    }\n",
    "                                }],\n",
    "                        \"should\": should_query,\n",
    "                        \"filter\":[{\n",
    "                                \"bool\":{\n",
    "                                    \"must_not\": must_not_filter,\n",
    "                                    \"must\": must_filter \n",
    "                                    }\n",
    "                        }]\n",
    "                    }\n",
    "            },\n",
    "        \"sort\" : [\"_score\"],\n",
    "    }\n",
    "    return base_query_dsl\n"
   ]
  },
  {
   "cell_type": "code",
   "execution_count": 121,
   "id": "4b39d051-f94b-4335-9d12-6f0e6f8f5510",
   "metadata": {
    "execution": {
     "iopub.execute_input": "2024-05-24T07:07:19.286389Z",
     "iopub.status.busy": "2024-05-24T07:07:19.285879Z",
     "iopub.status.idle": "2024-05-24T07:07:19.290334Z",
     "shell.execute_reply": "2024-05-24T07:07:19.289693Z",
     "shell.execute_reply.started": "2024-05-24T07:07:19.286355Z"
    },
    "tags": []
   },
   "outputs": [],
   "source": [
    "must_query = [{\"multi_match\":{\"query\": \"게임 좋아하는 사람\", \"fields\": ['mno_profiles', 'adot_profiles']}}]\n",
    "source =[\"svc_mgmt_num\", \"mno_profiles\", \"adot_profiles\"]"
   ]
  },
  {
   "cell_type": "code",
   "execution_count": 122,
   "id": "64acd48d-bdb3-4d8b-9d08-9d8ab22bf7fe",
   "metadata": {
    "execution": {
     "iopub.execute_input": "2024-05-24T07:07:19.402083Z",
     "iopub.status.busy": "2024-05-24T07:07:19.401605Z",
     "iopub.status.idle": "2024-05-24T07:07:19.405633Z",
     "shell.execute_reply": "2024-05-24T07:07:19.404972Z",
     "shell.execute_reply.started": "2024-05-24T07:07:19.402049Z"
    },
    "tags": []
   },
   "outputs": [],
   "source": [
    "get_query = get_base_query(source=source, must_query=must_query)"
   ]
  },
  {
   "cell_type": "code",
   "execution_count": 123,
   "id": "326c72eb-6a63-42ae-91c1-78aeaa8af5e4",
   "metadata": {
    "execution": {
     "iopub.execute_input": "2024-05-24T07:07:19.534456Z",
     "iopub.status.busy": "2024-05-24T07:07:19.533955Z",
     "iopub.status.idle": "2024-05-24T07:07:19.613807Z",
     "shell.execute_reply": "2024-05-24T07:07:19.613207Z",
     "shell.execute_reply.started": "2024-05-24T07:07:19.534423Z"
    },
    "tags": []
   },
   "outputs": [],
   "source": [
    "response = client.search(\n",
    "    body = get_query,\n",
    "    index = index_name\n",
    ")"
   ]
  },
  {
   "cell_type": "code",
   "execution_count": 124,
   "id": "448072f8-06fc-4597-a6b5-5c90a9237ad8",
   "metadata": {
    "execution": {
     "iopub.execute_input": "2024-05-24T07:07:19.657009Z",
     "iopub.status.busy": "2024-05-24T07:07:19.656530Z",
     "iopub.status.idle": "2024-05-24T07:07:19.662511Z",
     "shell.execute_reply": "2024-05-24T07:07:19.661938Z",
     "shell.execute_reply.started": "2024-05-24T07:07:19.656977Z"
    },
    "tags": []
   },
   "outputs": [
    {
     "data": {
      "text/plain": [
       "{'took': 57,\n",
       " 'timed_out': False,\n",
       " '_shards': {'total': 4, 'successful': 4, 'skipped': 0, 'failed': 0},\n",
       " 'hits': {'total': {'value': 65, 'relation': 'eq'},\n",
       "  'max_score': 8.8994665,\n",
       "  'hits': [{'_index': 'onemodel_v3_inital_test_20240512',\n",
       "    '_id': 'e258ef6adbc20b4f76262cb45eb7f19a15e9bcee9329eec736372aec9014f477',\n",
       "    '_score': 8.8994665,\n",
       "    '_source': {'svc_mgmt_num': 'e258ef6adbc20b4f76262cb45eb7f19a15e9bcee9329eec736372aec9014f477',\n",
       "     'mno_profiles': '관심사:음식/식사_카페,미디어/엔터테인먼트_음악,차량/운송_차 구매<|n|>성별:여자<|n|>나이:35세<|n|>서비스 사용 기간:8년<|n|>기변 후 경과일:1278일<|n|>요금제 이름:T플랜 스페셜<|n|>요금제 가격:79000원<|n|>3개월 평균 데이터 사용량:85gb<|n|>단말기 가격:고가<|n|>단말기 제조사:apple<|n|>멤버십 등급:vip<|n|>멤버십 사용 이력:없음<|n|>가족 결합 이력:있음<|n|>로밍 사용 이력:없음<|n|>세컨디바이스 보유 여부:없음<|n|>소액 및 DCB 결제 이력:0원',\n",
       "     'adot_profiles': '선호 도메인 : 게임<|n|>선호 카테고리 : 게임(하이퍼캐쥬얼) <|n|>선호 아이템 : 게임(프리셀, 틀린그림찾기) <|n|>성별 : 여성<|n|>나이 : 35<|n|>활성 상태 : 활성<|n|>재방문 비율 : 없음<|n|>다중 도메인 성향 : 보통<|n|>인기 컨텐츠 선호도 : 낮음<|n|>사용성 기준 : 일반유저<|n|>헤비유저인 도메인 : 루틴, T 서비스, 게임'}},\n",
       "   {'_index': 'onemodel_v3_inital_test_20240512',\n",
       "    '_id': 'e207579e75721cf137a867c46c4d886e6a67e4103ed661ea5eb453b7af036dcc',\n",
       "    '_score': 8.662716,\n",
       "    '_source': {'svc_mgmt_num': 'e207579e75721cf137a867c46c4d886e6a67e4103ed661ea5eb453b7af036dcc',\n",
       "     'mno_profiles': '관심사:미디어/엔터테인먼트_음악,쇼핑_중고거래,라이프스타일/취미_테마파크<|n|>성별:여자<|n|>나이:49세<|n|>서비스 사용 기간:11년<|n|>기변 후 경과일:90일<|n|>요금제 이름:5GX 프라임플러스<|n|>요금제 가격:99000원<|n|>3개월 평균 데이터 사용량:13gb<|n|>단말기 가격:고가<|n|>단말기 제조사:samsung<|n|>멤버십 등급:vip<|n|>멤버십 사용 이력:있음<|n|>가족 결합 이력:있음<|n|>로밍 사용 이력:없음<|n|>세컨디바이스 보유 여부:없음<|n|>소액 및 DCB 결제 이력:3900원',\n",
       "     'adot_profiles': '선호 도메인 : 포토, 게임<|n|>선호 카테고리 : 게임(하이퍼캐쥬얼, 심리테스트) <|n|>선호 아이템 : 게임(머지프루트, 멍 테스트, 연애 밸런스 게임) <|n|>성별 : 여성<|n|>나이 : 49<|n|>활성 상태 : 활성<|n|>재방문 비율 : 높음<|n|>다중 도메인 성향 : 보통<|n|>인기 컨텐츠 선호도 : 높음<|n|>사용성 기준 : 헤비유저<|n|>헤비유저인 도메인 : 게임, 포토'}},\n",
       "   {'_index': 'onemodel_v3_inital_test_20240512',\n",
       "    '_id': 'e2db8776ea180560c881e68936971b6170e29046dba5076844bbf272449d0fd6',\n",
       "    '_score': 8.376154,\n",
       "    '_source': {'svc_mgmt_num': 'e2db8776ea180560c881e68936971b6170e29046dba5076844bbf272449d0fd6',\n",
       "     'mno_profiles': '관심사:미디어/엔터테인먼트_OTT,쇼핑_식재료 새벽배송,미디어/엔터테인먼트_독서<|n|>성별:여자<|n|>나이:46세<|n|>서비스 사용 기간:0년<|n|>기변 후 경과일:모름<|n|>요금제 이름:베이직플러스 13GB업<|n|>요금제 가격:62000원<|n|>3개월 평균 데이터 사용량:7gb<|n|>단말기 가격:모름<|n|>단말기 제조사:apple<|n|>멤버십 등급:silver<|n|>멤버십 사용 이력:없음<|n|>가족 결합 이력:있음<|n|>로밍 사용 이력:없음<|n|>세컨디바이스 보유 여부:없음<|n|>소액 및 DCB 결제 이력:0원',\n",
       "     'adot_profiles': '선호 도메인 : 게임<|n|>선호 카테고리 : 게임(하이퍼캐쥬얼) <|n|>선호 아이템 : 게임(헥사큐브) <|n|>성별 : 여성<|n|>나이 : 46<|n|>활성 상태 : 활성<|n|>재방문 비율 : 높음<|n|>다중 도메인 성향 : 보통<|n|>인기 컨텐츠 선호도 : 보통<|n|>사용성 기준 : 일반유저<|n|>헤비유저인 도메인 : 게임, 퀘스트'}},\n",
       "   {'_index': 'onemodel_v3_inital_test_20240512',\n",
       "    '_id': 'e279e3a217ec64bb20fd7be61fd1c905970f21f169034b163c624f8f2daee847',\n",
       "    '_score': 8.376154,\n",
       "    '_source': {'svc_mgmt_num': 'e279e3a217ec64bb20fd7be61fd1c905970f21f169034b163c624f8f2daee847',\n",
       "     'mno_profiles': '관심사:쇼핑_중고거래,음식/식사_한식,스포츠/피트니스_골프<|n|>성별:남자<|n|>나이:58세<|n|>서비스 사용 기간:9년<|n|>기변 후 경과일:95일<|n|>요금제 이름:베이직플러스<|n|>요금제 가격:99000원<|n|>3개월 평균 데이터 사용량:1gb<|n|>단말기 가격:고가<|n|>단말기 제조사:samsung<|n|>멤버십 등급:vip<|n|>멤버십 사용 이력:없음<|n|>가족 결합 이력:있음<|n|>로밍 사용 이력:없음<|n|>세컨디바이스 보유 여부:있음<|n|>소액 및 DCB 결제 이력:0원',\n",
       "     'adot_profiles': '선호 도메인 : 게임<|n|>선호 카테고리 : 게임(하이퍼캐쥬얼) <|n|>선호 아이템 : 게임(주시팡) <|n|>성별 : 남성<|n|>나이 : 58<|n|>활성 상태 : 활성<|n|>재방문 비율 : 높음<|n|>다중 도메인 성향 : 낮음<|n|>인기 컨텐츠 선호도 : 낮음<|n|>사용성 기준 : 헤비유저<|n|>헤비유저인 도메인 : 게임, TV'}},\n",
       "   {'_index': 'onemodel_v3_inital_test_20240512',\n",
       "    '_id': 'e25e7fc11d45ab39ba0399a11f4129149398468c7d8c37a942511dfe1e556012',\n",
       "    '_score': 8.376154,\n",
       "    '_source': {'svc_mgmt_num': 'e25e7fc11d45ab39ba0399a11f4129149398468c7d8c37a942511dfe1e556012',\n",
       "     'mno_profiles': '관심사:쇼핑_해외직구,음식/식사_카페,쇼핑_중고거래<|n|>성별:남자<|n|>나이:49세<|n|>서비스 사용 기간:11년<|n|>기변 후 경과일:266일<|n|>요금제 이름:5GX 프라임<|n|>요금제 가격:89000원<|n|>3개월 평균 데이터 사용량:0gb<|n|>단말기 가격:고가<|n|>단말기 제조사:samsung<|n|>멤버십 등급:vip<|n|>멤버십 사용 이력:있음<|n|>가족 결합 이력:있음<|n|>로밍 사용 이력:없음<|n|>세컨디바이스 보유 여부:있음<|n|>소액 및 DCB 결제 이력:0원',\n",
       "     'adot_profiles': '선호 도메인 : 게임<|n|>선호 카테고리 : 게임(하이퍼캐쥬얼) <|n|>선호 아이템 : 게임(주시팡, 장기대전) <|n|>성별 : 남성<|n|>나이 : 49<|n|>활성 상태 : 활성<|n|>재방문 비율 : 높음<|n|>다중 도메인 성향 : 높음<|n|>인기 컨텐츠 선호도 : 높음<|n|>사용성 기준 : 일반유저<|n|>헤비유저인 도메인 : 날씨, 게임'}}]}}"
      ]
     },
     "execution_count": 124,
     "metadata": {},
     "output_type": "execute_result"
    }
   ],
   "source": [
    "response"
   ]
  },
  {
   "cell_type": "code",
   "execution_count": null,
   "id": "017bcde5-d93a-4227-8023-25eae90cdd24",
   "metadata": {},
   "outputs": [],
   "source": []
  },
  {
   "cell_type": "code",
   "execution_count": null,
   "id": "883c903f-3b26-4842-a7fd-ece01487be1f",
   "metadata": {},
   "outputs": [],
   "source": []
  }
 ],
 "metadata": {
  "kernelspec": {
   "display_name": "Python 3 (ipykernel)",
   "language": "python",
   "name": "python3"
  },
  "language_info": {
   "codemirror_mode": {
    "name": "ipython",
    "version": 3
   },
   "file_extension": ".py",
   "mimetype": "text/x-python",
   "name": "python",
   "nbconvert_exporter": "python",
   "pygments_lexer": "ipython3",
   "version": "3.8.19"
  }
 },
 "nbformat": 4,
 "nbformat_minor": 5
}
