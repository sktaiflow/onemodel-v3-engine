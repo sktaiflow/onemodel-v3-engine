{
 "cells": [
  {
   "cell_type": "code",
   "execution_count": 4,
   "id": "7389611e-cc35-4f73-8238-a20bb757f564",
   "metadata": {
    "execution": {
     "iopub.execute_input": "2024-05-24T04:46:53.373530Z",
     "iopub.status.busy": "2024-05-24T04:46:53.373111Z",
     "iopub.status.idle": "2024-05-24T04:46:53.376841Z",
     "shell.execute_reply": "2024-05-24T04:46:53.376237Z",
     "shell.execute_reply.started": "2024-05-24T04:46:53.373498Z"
    },
    "tags": []
   },
   "outputs": [],
   "source": [
    "#pip install opensearch-py==2.5.0"
   ]
  },
  {
   "cell_type": "code",
   "execution_count": 6,
   "id": "3d226c92-79e6-4a9a-8ed9-1938850c7796",
   "metadata": {
    "execution": {
     "iopub.execute_input": "2024-05-24T09:06:14.642886Z",
     "iopub.status.busy": "2024-05-24T09:06:14.642412Z",
     "iopub.status.idle": "2024-05-24T09:06:14.646310Z",
     "shell.execute_reply": "2024-05-24T09:06:14.645667Z",
     "shell.execute_reply.started": "2024-05-24T09:06:14.642855Z"
    },
    "tags": []
   },
   "outputs": [],
   "source": [
    "from opensearchpy import helpers, OpenSearch"
   ]
  },
  {
   "cell_type": "code",
   "execution_count": 7,
   "id": "2f63b5c2-aa16-4060-904f-073e7809a00e",
   "metadata": {
    "execution": {
     "iopub.execute_input": "2024-05-24T09:06:14.838918Z",
     "iopub.status.busy": "2024-05-24T09:06:14.838377Z",
     "iopub.status.idle": "2024-05-24T09:06:14.841908Z",
     "shell.execute_reply": "2024-05-24T09:06:14.841318Z",
     "shell.execute_reply.started": "2024-05-24T09:06:14.838887Z"
    },
    "tags": []
   },
   "outputs": [],
   "source": [
    "stg_vpce_opensearch = \"aos-ef399bbbead7-qs5jilysrng2oxiiayoxwtklki.ap-northeast-2.es.amazonaws.com\"\n",
    "PORT = 443"
   ]
  },
  {
   "cell_type": "code",
   "execution_count": 8,
   "id": "9a0efd6a-ee5c-4576-a202-4ad26f9327ea",
   "metadata": {
    "execution": {
     "iopub.execute_input": "2024-05-24T09:06:15.038236Z",
     "iopub.status.busy": "2024-05-24T09:06:15.037742Z",
     "iopub.status.idle": "2024-05-24T09:06:15.042164Z",
     "shell.execute_reply": "2024-05-24T09:06:15.041578Z",
     "shell.execute_reply.started": "2024-05-24T09:06:15.038206Z"
    },
    "tags": []
   },
   "outputs": [],
   "source": [
    "client = OpenSearch(\n",
    "    hosts = [{\"host\": stg_vpce_opensearch, \"port\": PORT}],\n",
    "    http_compress=True,\n",
    "    use_ssl=True,\n",
    "    verify_certs=True,\n",
    "    timeout=2,\n",
    "    pool_maxsize=40,\n",
    "    http_auth=(\"TheMasterUser\", \"Developer_rec_stg1!\"),\n",
    ")"
   ]
  },
  {
   "cell_type": "code",
   "execution_count": 9,
   "id": "782319e1-ee92-4d74-836d-c4052f804e77",
   "metadata": {
    "execution": {
     "iopub.execute_input": "2024-05-24T09:06:16.789230Z",
     "iopub.status.busy": "2024-05-24T09:06:16.788752Z",
     "iopub.status.idle": "2024-05-24T09:06:16.792570Z",
     "shell.execute_reply": "2024-05-24T09:06:16.791960Z",
     "shell.execute_reply.started": "2024-05-24T09:06:16.789199Z"
    },
    "tags": []
   },
   "outputs": [],
   "source": [
    "index_name = 'onemodel_v3_inital_test_20240512'"
   ]
  },
  {
   "cell_type": "markdown",
   "id": "f6cf942e-0b07-46d4-b636-bb2e8df1776b",
   "metadata": {},
   "source": [
    "# test "
   ]
  },
  {
   "cell_type": "code",
   "execution_count": 14,
   "id": "07f15340-a88a-4216-821a-79b80fdf76c0",
   "metadata": {
    "execution": {
     "iopub.execute_input": "2024-05-24T09:08:34.545121Z",
     "iopub.status.busy": "2024-05-24T09:08:34.544622Z",
     "iopub.status.idle": "2024-05-24T09:09:01.691701Z",
     "shell.execute_reply": "2024-05-24T09:09:01.690713Z",
     "shell.execute_reply.started": "2024-05-24T09:08:34.545089Z"
    },
    "tags": []
   },
   "outputs": [
    {
     "name": "stderr",
     "output_type": "stream",
     "text": [
      "Setting default log level to \"WARN\".\n",
      "To adjust logging level use sc.setLogLevel(newLevel). For SparkR, use setLogLevel(newLevel).\n",
      "24/05/24 18:08:38 WARN Client: Neither spark.yarn.jars nor spark.yarn.archive is set, falling back to uploading libraries under SPARK_HOME.\n"
     ]
    }
   ],
   "source": [
    "from skt.ye import (\n",
    "    get_hdfs_conn,\n",
    "    get_spark,\n",
    "    hive_execute,\n",
    "    hive_to_pandas,\n",
    "    pandas_to_parquet,\n",
    "    slack_send,\n",
    "    get_secrets\n",
    ")\n",
    "spark = get_spark()"
   ]
  },
  {
   "cell_type": "code",
   "execution_count": 15,
   "id": "94d5039d-7a75-42e2-a015-87efb48f51b1",
   "metadata": {
    "execution": {
     "iopub.execute_input": "2024-05-24T09:09:01.693887Z",
     "iopub.status.busy": "2024-05-24T09:09:01.693497Z",
     "iopub.status.idle": "2024-05-24T09:09:05.758574Z",
     "shell.execute_reply": "2024-05-24T09:09:05.757658Z",
     "shell.execute_reply.started": "2024-05-24T09:09:01.693855Z"
    },
    "tags": []
   },
   "outputs": [
    {
     "name": "stderr",
     "output_type": "stream",
     "text": [
      "                                                                                \r"
     ]
    }
   ],
   "source": [
    "test_query_dict = spark.read.parquet('/data/temp/one_model_2024-05-11/new_query_240524.parquet.gzip')"
   ]
  },
  {
   "cell_type": "code",
   "execution_count": 19,
   "id": "c2c87326-429f-42f4-a05c-b8e0885f3502",
   "metadata": {
    "execution": {
     "iopub.execute_input": "2024-05-24T09:11:27.641944Z",
     "iopub.status.busy": "2024-05-24T09:11:27.641534Z",
     "iopub.status.idle": "2024-05-24T09:11:28.732494Z",
     "shell.execute_reply": "2024-05-24T09:11:28.731644Z",
     "shell.execute_reply.started": "2024-05-24T09:11:27.641911Z"
    },
    "tags": []
   },
   "outputs": [
    {
     "name": "stderr",
     "output_type": "stream",
     "text": [
      "                                                                                \r"
     ]
    }
   ],
   "source": [
    "test_embedding = test_query_dict.toPandas()"
   ]
  },
  {
   "cell_type": "code",
   "execution_count": 24,
   "id": "f7263bc0-f9a9-4570-852b-90022ceb00bc",
   "metadata": {
    "execution": {
     "iopub.execute_input": "2024-05-24T09:13:45.154109Z",
     "iopub.status.busy": "2024-05-24T09:13:45.153709Z",
     "iopub.status.idle": "2024-05-24T09:13:45.160000Z",
     "shell.execute_reply": "2024-05-24T09:13:45.159381Z",
     "shell.execute_reply.started": "2024-05-24T09:13:45.154077Z"
    },
    "tags": []
   },
   "outputs": [],
   "source": [
    "test_dict = test_embedding.set_index('new_query')['emb'].to_dict()"
   ]
  },
  {
   "cell_type": "code",
   "execution_count": 25,
   "id": "ab71f7d7-2bce-49a1-883b-a8493f7e143f",
   "metadata": {
    "execution": {
     "iopub.execute_input": "2024-05-24T09:14:32.779655Z",
     "iopub.status.busy": "2024-05-24T09:14:32.779229Z",
     "iopub.status.idle": "2024-05-24T09:14:32.783241Z",
     "shell.execute_reply": "2024-05-24T09:14:32.782628Z",
     "shell.execute_reply.started": "2024-05-24T09:14:32.779622Z"
    },
    "tags": []
   },
   "outputs": [],
   "source": [
    "for query, emb in test_dict.items():\n",
    "    query = query\n",
    "    emb = emb \n",
    "    break"
   ]
  },
  {
   "cell_type": "code",
   "execution_count": 27,
   "id": "4f2f54e5-f8e7-41fa-8d99-99e3eaf983ee",
   "metadata": {
    "execution": {
     "iopub.execute_input": "2024-05-24T09:15:30.406425Z",
     "iopub.status.busy": "2024-05-24T09:15:30.406013Z",
     "iopub.status.idle": "2024-05-24T09:15:30.409952Z",
     "shell.execute_reply": "2024-05-24T09:15:30.409328Z",
     "shell.execute_reply.started": "2024-05-24T09:15:30.406393Z"
    },
    "tags": []
   },
   "outputs": [],
   "source": [
    "source = [\"svc_mgmt_num\", \"mno_profiles\", \"adot_profiles\"]"
   ]
  },
  {
   "cell_type": "code",
   "execution_count": 30,
   "id": "61a6357c-2238-4491-ab85-10542beba998",
   "metadata": {
    "execution": {
     "iopub.execute_input": "2024-05-24T09:16:56.900439Z",
     "iopub.status.busy": "2024-05-24T09:16:56.900026Z",
     "iopub.status.idle": "2024-05-24T09:16:56.905155Z",
     "shell.execute_reply": "2024-05-24T09:16:56.904545Z",
     "shell.execute_reply.started": "2024-05-24T09:16:56.900406Z"
    },
    "tags": []
   },
   "outputs": [],
   "source": [
    "from typing import List, Dict\n",
    "def vector_get_base_query(\n",
    "        vector,\n",
    "        source: List = [], \n",
    "        W: Dict = {},\n",
    "    ):\n",
    "    size = W.get(\"size\", 5)\n",
    "    base_query_dsl = {\n",
    "        \"_source\": source,\n",
    "        \"size\": size,\n",
    "        \"query\": {\n",
    "            \"knn\": {\n",
    "                \"user_embedding\": {\n",
    "                    \"vector\": vector,\n",
    "                    \"k\": size\n",
    "                }\n",
    "            }\n",
    "        }\n",
    "    }\n",
    "    return base_query_dsl"
   ]
  },
  {
   "cell_type": "code",
   "execution_count": 31,
   "id": "46668b72-436f-4c4e-b94d-e4437b7f5e3e",
   "metadata": {
    "execution": {
     "iopub.execute_input": "2024-05-24T09:16:57.491457Z",
     "iopub.status.busy": "2024-05-24T09:16:57.491048Z",
     "iopub.status.idle": "2024-05-24T09:16:57.494829Z",
     "shell.execute_reply": "2024-05-24T09:16:57.494214Z",
     "shell.execute_reply.started": "2024-05-24T09:16:57.491424Z"
    },
    "tags": []
   },
   "outputs": [],
   "source": [
    "vector_query = vector_get_base_query(vector=emb, source=source)"
   ]
  },
  {
   "cell_type": "code",
   "execution_count": 32,
   "id": "6376dd71-cfc1-4277-b082-08614ab24f7e",
   "metadata": {
    "execution": {
     "iopub.execute_input": "2024-05-24T09:16:57.501010Z",
     "iopub.status.busy": "2024-05-24T09:16:57.500632Z",
     "iopub.status.idle": "2024-05-24T09:16:57.991298Z",
     "shell.execute_reply": "2024-05-24T09:16:57.990064Z",
     "shell.execute_reply.started": "2024-05-24T09:16:57.500968Z"
    },
    "tags": []
   },
   "outputs": [],
   "source": [
    "response = client.search(\n",
    "    body = vector_query,\n",
    "    index = index_name\n",
    ")"
   ]
  },
  {
   "cell_type": "code",
   "execution_count": 34,
   "id": "94b61100-d36d-4a70-b3dc-a52146433325",
   "metadata": {
    "execution": {
     "iopub.execute_input": "2024-05-24T09:17:09.545704Z",
     "iopub.status.busy": "2024-05-24T09:17:09.545287Z",
     "iopub.status.idle": "2024-05-24T09:17:09.549992Z",
     "shell.execute_reply": "2024-05-24T09:17:09.549414Z",
     "shell.execute_reply.started": "2024-05-24T09:17:09.545672Z"
    },
    "tags": []
   },
   "outputs": [
    {
     "data": {
      "text/plain": [
       "'의류에 관심있는 사용자 찾아줘'"
      ]
     },
     "execution_count": 34,
     "metadata": {},
     "output_type": "execute_result"
    }
   ],
   "source": [
    "query"
   ]
  },
  {
   "cell_type": "code",
   "execution_count": 33,
   "id": "94898acb-abbe-4ce6-872f-f7005202bc89",
   "metadata": {
    "execution": {
     "iopub.execute_input": "2024-05-24T09:16:58.919883Z",
     "iopub.status.busy": "2024-05-24T09:16:58.919477Z",
     "iopub.status.idle": "2024-05-24T09:16:58.925782Z",
     "shell.execute_reply": "2024-05-24T09:16:58.925198Z",
     "shell.execute_reply.started": "2024-05-24T09:16:58.919851Z"
    },
    "tags": []
   },
   "outputs": [
    {
     "data": {
      "text/plain": [
       "{'took': 61,\n",
       " 'timed_out': False,\n",
       " '_shards': {'total': 4, 'successful': 4, 'skipped': 0, 'failed': 0},\n",
       " 'hits': {'total': {'value': 20, 'relation': 'eq'},\n",
       "  'max_score': 0.0001215903,\n",
       "  'hits': [{'_index': 'onemodel_v3_inital_test_20240512',\n",
       "    '_id': 'e20cda43c4b23948b6dd282690a608401cb86843b325b4c8632e807c03ed42a9',\n",
       "    '_score': 0.0001215903,\n",
       "    '_source': {'svc_mgmt_num': 'e20cda43c4b23948b6dd282690a608401cb86843b325b4c8632e807c03ed42a9',\n",
       "     'mno_profiles': '관심사:의료_의료시설,의료_노인/요양병원<|n|>성별:여자<|n|>나이:69세<|n|>서비스 사용 기간:9년<|n|>기변 후 경과일:529일<|n|>요금제 이름:베이직\\u3000<|n|>요금제 가격:49000원<|n|>3개월 평균 데이터 사용량:0gb<|n|>단말기 가격:중가<|n|>단말기 제조사:samsung<|n|>멤버십 등급:gold<|n|>멤버십 사용 이력:없음<|n|>가족 결합 이력:있음<|n|>로밍 사용 이력:없음<|n|>세컨디바이스 보유 여부:없음<|n|>소액 및 DCB 결제 이력:0원',\n",
       "     'adot_profiles': '선호 도메인 : 없음<|n|>선호 카테고리 : 없음<|n|>선호 아이템 : 없음<|n|>성별 : 여성<|n|>나이 : 69<|n|>활성 상태 : 휴면<|n|>재방문 비율 : 없음<|n|>다중 도메인 성향 : 없음<|n|>인기 컨텐츠 선호도 : 없음<|n|>사용성 기준 : 라이트유저<|n|>헤비유즈 도메인 : 없음'}},\n",
       "   {'_index': 'onemodel_v3_inital_test_20240512',\n",
       "    '_id': 'e2a323f9c86daf20c25e46ea7003601d220a2dc62b0f3dae3108a9cfadcee765',\n",
       "    '_score': 0.00012117853,\n",
       "    '_source': {'svc_mgmt_num': 'e2a323f9c86daf20c25e46ea7003601d220a2dc62b0f3dae3108a9cfadcee765',\n",
       "     'mno_profiles': '관심사:모름<|n|>성별:여자<|n|>나이:37세<|n|>서비스 사용 기간:2년<|n|>기변 후 경과일:266일<|n|>요금제 이름:5GX 프라임플러스<|n|>요금제 가격:99000원<|n|>3개월 평균 데이터 사용량:1gb<|n|>단말기 가격:고가<|n|>단말기 제조사:samsung<|n|>멤버십 등급:vip<|n|>멤버십 사용 이력:있음<|n|>가족 결합 이력:없음<|n|>로밍 사용 이력:없음<|n|>세컨디바이스 보유 여부:없음<|n|>소액 및 DCB 결제 이력:0원',\n",
       "     'adot_profiles': '선호 도메인 : 없음<|n|>선호 카테고리 : 없음<|n|>선호 아이템 : 없음<|n|>성별 : 여성<|n|>나이 : 37<|n|>활성 상태 : 휴면<|n|>재방문 비율 : 없음<|n|>다중 도메인 성향 : 없음<|n|>인기 컨텐츠 선호도 : 없음<|n|>사용성 기준 : 라이트유저<|n|>헤비유즈 도메인 : 없음'}},\n",
       "   {'_index': 'onemodel_v3_inital_test_20240512',\n",
       "    '_id': 'e2e6c4980560820f3afa5f45019ecb46b756d9b8fb401e87ac559d367495a78b',\n",
       "    '_score': 0.000120993005,\n",
       "    '_source': {'svc_mgmt_num': 'e2e6c4980560820f3afa5f45019ecb46b756d9b8fb401e87ac559d367495a78b',\n",
       "     'mno_profiles': '관심사:모름<|n|>성별:여자<|n|>나이:62세<|n|>서비스 사용 기간:10년<|n|>기변 후 경과일:502일<|n|>요금제 이름:T플랜 세이브<|n|>요금제 가격:33000원<|n|>3개월 평균 데이터 사용량:1gb<|n|>단말기 가격:저가<|n|>단말기 제조사:samsung<|n|>멤버십 등급:gold<|n|>멤버십 사용 이력:없음<|n|>가족 결합 이력:있음<|n|>로밍 사용 이력:없음<|n|>세컨디바이스 보유 여부:없음<|n|>소액 및 DCB 결제 이력:0원',\n",
       "     'adot_profiles': '선호 도메인 : 없음<|n|>선호 카테고리 : 없음<|n|>선호 아이템 : 없음<|n|>성별 : 여성<|n|>나이 : 62<|n|>활성 상태 : 휴면<|n|>재방문 비율 : 없음<|n|>다중 도메인 성향 : 없음<|n|>인기 컨텐츠 선호도 : 없음<|n|>사용성 기준 : 라이트유저<|n|>헤비유즈 도메인 : 없음'}},\n",
       "   {'_index': 'onemodel_v3_inital_test_20240512',\n",
       "    '_id': 'e27d3de1c77f6636e8de7886430735f08df56cb34748fb0af301f4ea71f3db24',\n",
       "    '_score': 0.00012077938,\n",
       "    '_source': {'svc_mgmt_num': 'e27d3de1c77f6636e8de7886430735f08df56cb34748fb0af301f4ea71f3db24',\n",
       "     'mno_profiles': '관심사:쇼핑_해외직구,라이프스타일/취미_멤버십/할인/포인트,미디어/엔터테인먼트_OTT<|n|>성별:남자<|n|>나이:52세<|n|>서비스 사용 기간:19년<|n|>기변 후 경과일:27일<|n|>요금제 이름:5GX프라임<|n|>요금제 가격:89000원<|n|>3개월 평균 데이터 사용량:75gb<|n|>단말기 가격:고가<|n|>단말기 제조사:samsung<|n|>멤버십 등급:vip<|n|>멤버십 사용 이력:있음<|n|>가족 결합 이력:있음<|n|>로밍 사용 이력:없음<|n|>세컨디바이스 보유 여부:있음<|n|>소액 및 DCB 결제 이력:0원',\n",
       "     'adot_profiles': '선호 도메인 : 전화<|n|>선호 카테고리 : 없음<|n|>선호 아이템 : 없음<|n|>성별 : 남성<|n|>나이 : 52<|n|>활성 상태 : 활성<|n|>재방문 비율 : 없음<|n|>다중 도메인 성향 : 보통<|n|>인기 컨텐츠 선호도 : 낮음<|n|>사용성 기준 : 일반유저<|n|>헤비유저인 도메인 : 캘린더'}},\n",
       "   {'_index': 'onemodel_v3_inital_test_20240512',\n",
       "    '_id': 'e282781d4e5755d0820de8f1ebcac1a44e4a267bf64d35e8c9280e609420769c',\n",
       "    '_score': 0.00012074054,\n",
       "    '_source': {'svc_mgmt_num': 'e282781d4e5755d0820de8f1ebcac1a44e4a267bf64d35e8c9280e609420769c',\n",
       "     'mno_profiles': '관심사:금융_카드사 전화,음식/식사_음식 배달 주문,라이프스타일/취미_해외 메신저/SNS<|n|>성별:남자<|n|>나이:51세<|n|>서비스 사용 기간:12년<|n|>기변 후 경과일:691일<|n|>요금제 이름:5GX프라임<|n|>요금제 가격:89000원<|n|>3개월 평균 데이터 사용량:4gb<|n|>단말기 가격:고가<|n|>단말기 제조사:samsung<|n|>멤버십 등급:vip<|n|>멤버십 사용 이력:없음<|n|>가족 결합 이력:있음<|n|>로밍 사용 이력:없음<|n|>세컨디바이스 보유 여부:없음<|n|>소액 및 DCB 결제 이력:0원',\n",
       "     'adot_profiles': '선호 도메인 : 없음<|n|>선호 카테고리 : 없음<|n|>선호 아이템 : 없음<|n|>성별 : 남성<|n|>나이 : 51<|n|>활성 상태 : 휴면<|n|>재방문 비율 : 없음<|n|>다중 도메인 성향 : 없음<|n|>인기 컨텐츠 선호도 : 없음<|n|>사용성 기준 : 라이트유저<|n|>헤비유저인 도메인 : T 서비스, 음악'}}]}}"
      ]
     },
     "execution_count": 33,
     "metadata": {},
     "output_type": "execute_result"
    }
   ],
   "source": [
    "response"
   ]
  },
  {
   "cell_type": "code",
   "execution_count": null,
   "id": "c108c254-7af5-4d75-b7a4-a400706cecb7",
   "metadata": {},
   "outputs": [],
   "source": [
    "s"
   ]
  }
 ],
 "metadata": {
  "kernelspec": {
   "display_name": "Python 3 (ipykernel)",
   "language": "python",
   "name": "python3"
  },
  "language_info": {
   "codemirror_mode": {
    "name": "ipython",
    "version": 3
   },
   "file_extension": ".py",
   "mimetype": "text/x-python",
   "name": "python",
   "nbconvert_exporter": "python",
   "pygments_lexer": "ipython3",
   "version": "3.8.19"
  }
 },
 "nbformat": 4,
 "nbformat_minor": 5
}
