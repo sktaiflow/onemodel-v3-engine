{
 "cells": [
  {
   "cell_type": "code",
   "execution_count": 4,
   "id": "7389611e-cc35-4f73-8238-a20bb757f564",
   "metadata": {
    "execution": {
     "iopub.execute_input": "2024-05-24T04:46:53.373530Z",
     "iopub.status.busy": "2024-05-24T04:46:53.373111Z",
     "iopub.status.idle": "2024-05-24T04:46:53.376841Z",
     "shell.execute_reply": "2024-05-24T04:46:53.376237Z",
     "shell.execute_reply.started": "2024-05-24T04:46:53.373498Z"
    },
    "tags": []
   },
   "outputs": [],
   "source": [
    "#pip install opensearch-py==2.5.0"
   ]
  },
  {
   "cell_type": "code",
   "execution_count": 6,
   "id": "3d226c92-79e6-4a9a-8ed9-1938850c7796",
   "metadata": {
    "execution": {
     "iopub.execute_input": "2024-05-24T09:06:14.642886Z",
     "iopub.status.busy": "2024-05-24T09:06:14.642412Z",
     "iopub.status.idle": "2024-05-24T09:06:14.646310Z",
     "shell.execute_reply": "2024-05-24T09:06:14.645667Z",
     "shell.execute_reply.started": "2024-05-24T09:06:14.642855Z"
    },
    "tags": []
   },
   "outputs": [],
   "source": [
    "from opensearchpy import helpers, OpenSearch"
   ]
  },
  {
   "cell_type": "code",
   "execution_count": 7,
   "id": "2f63b5c2-aa16-4060-904f-073e7809a00e",
   "metadata": {
    "execution": {
     "iopub.execute_input": "2024-05-24T09:06:14.838918Z",
     "iopub.status.busy": "2024-05-24T09:06:14.838377Z",
     "iopub.status.idle": "2024-05-24T09:06:14.841908Z",
     "shell.execute_reply": "2024-05-24T09:06:14.841318Z",
     "shell.execute_reply.started": "2024-05-24T09:06:14.838887Z"
    },
    "tags": []
   },
   "outputs": [],
   "source": [
    "stg_vpce_opensearch = \"aos-ef399bbbead7-qs5jilysrng2oxiiayoxwtklki.ap-northeast-2.es.amazonaws.com\"\n",
    "PORT = 443"
   ]
  },
  {
   "cell_type": "code",
   "execution_count": 8,
   "id": "9a0efd6a-ee5c-4576-a202-4ad26f9327ea",
   "metadata": {
    "execution": {
     "iopub.execute_input": "2024-05-24T09:06:15.038236Z",
     "iopub.status.busy": "2024-05-24T09:06:15.037742Z",
     "iopub.status.idle": "2024-05-24T09:06:15.042164Z",
     "shell.execute_reply": "2024-05-24T09:06:15.041578Z",
     "shell.execute_reply.started": "2024-05-24T09:06:15.038206Z"
    },
    "tags": []
   },
   "outputs": [],
   "source": [
    "client = OpenSearch(\n",
    "    hosts = [{\"host\": stg_vpce_opensearch, \"port\": PORT}],\n",
    "    http_compress=True,\n",
    "    use_ssl=True,\n",
    "    verify_certs=True,\n",
    "    timeout=2,\n",
    "    pool_maxsize=40,\n",
    "    http_auth=(\"TheMasterUser\", \"Developer_rec_stg1!\"),\n",
    ")"
   ]
  },
  {
   "cell_type": "code",
   "execution_count": 9,
   "id": "782319e1-ee92-4d74-836d-c4052f804e77",
   "metadata": {
    "execution": {
     "iopub.execute_input": "2024-05-24T09:06:16.789230Z",
     "iopub.status.busy": "2024-05-24T09:06:16.788752Z",
     "iopub.status.idle": "2024-05-24T09:06:16.792570Z",
     "shell.execute_reply": "2024-05-24T09:06:16.791960Z",
     "shell.execute_reply.started": "2024-05-24T09:06:16.789199Z"
    },
    "tags": []
   },
   "outputs": [],
   "source": [
    "index_name = 'onemodel_v3_inital_test_20240512'"
   ]
  },
  {
   "cell_type": "markdown",
   "id": "f6cf942e-0b07-46d4-b636-bb2e8df1776b",
   "metadata": {},
   "source": [
    "# test "
   ]
  },
  {
   "cell_type": "code",
   "execution_count": 14,
   "id": "07f15340-a88a-4216-821a-79b80fdf76c0",
   "metadata": {
    "execution": {
     "iopub.execute_input": "2024-05-24T09:08:34.545121Z",
     "iopub.status.busy": "2024-05-24T09:08:34.544622Z",
     "iopub.status.idle": "2024-05-24T09:09:01.691701Z",
     "shell.execute_reply": "2024-05-24T09:09:01.690713Z",
     "shell.execute_reply.started": "2024-05-24T09:08:34.545089Z"
    },
    "tags": []
   },
   "outputs": [
    {
     "name": "stderr",
     "output_type": "stream",
     "text": [
      "Setting default log level to \"WARN\".\n",
      "To adjust logging level use sc.setLogLevel(newLevel). For SparkR, use setLogLevel(newLevel).\n",
      "24/05/24 18:08:38 WARN Client: Neither spark.yarn.jars nor spark.yarn.archive is set, falling back to uploading libraries under SPARK_HOME.\n"
     ]
    }
   ],
   "source": [
    "from skt.ye import (\n",
    "    get_hdfs_conn,\n",
    "    get_spark,\n",
    "    hive_execute,\n",
    "    hive_to_pandas,\n",
    "    pandas_to_parquet,\n",
    "    slack_send,\n",
    "    get_secrets\n",
    ")\n",
    "spark = get_spark()"
   ]
  },
  {
   "cell_type": "code",
   "execution_count": 15,
   "id": "94d5039d-7a75-42e2-a015-87efb48f51b1",
   "metadata": {
    "execution": {
     "iopub.execute_input": "2024-05-24T09:09:01.693887Z",
     "iopub.status.busy": "2024-05-24T09:09:01.693497Z",
     "iopub.status.idle": "2024-05-24T09:09:05.758574Z",
     "shell.execute_reply": "2024-05-24T09:09:05.757658Z",
     "shell.execute_reply.started": "2024-05-24T09:09:01.693855Z"
    },
    "tags": []
   },
   "outputs": [
    {
     "name": "stderr",
     "output_type": "stream",
     "text": [
      "                                                                                \r"
     ]
    }
   ],
   "source": [
    "test_query_dict = spark.read.parquet('/data/temp/one_model_2024-05-11/new_query_240524.parquet.gzip')"
   ]
  },
  {
   "cell_type": "code",
   "execution_count": 19,
   "id": "c2c87326-429f-42f4-a05c-b8e0885f3502",
   "metadata": {
    "execution": {
     "iopub.execute_input": "2024-05-24T09:11:27.641944Z",
     "iopub.status.busy": "2024-05-24T09:11:27.641534Z",
     "iopub.status.idle": "2024-05-24T09:11:28.732494Z",
     "shell.execute_reply": "2024-05-24T09:11:28.731644Z",
     "shell.execute_reply.started": "2024-05-24T09:11:27.641911Z"
    },
    "tags": []
   },
   "outputs": [
    {
     "name": "stderr",
     "output_type": "stream",
     "text": [
      "                                                                                \r"
     ]
    }
   ],
   "source": [
    "test_embedding = test_query_dict.toPandas()"
   ]
  },
  {
   "cell_type": "code",
   "execution_count": 24,
   "id": "f7263bc0-f9a9-4570-852b-90022ceb00bc",
   "metadata": {
    "execution": {
     "iopub.execute_input": "2024-05-24T09:13:45.154109Z",
     "iopub.status.busy": "2024-05-24T09:13:45.153709Z",
     "iopub.status.idle": "2024-05-24T09:13:45.160000Z",
     "shell.execute_reply": "2024-05-24T09:13:45.159381Z",
     "shell.execute_reply.started": "2024-05-24T09:13:45.154077Z"
    },
    "tags": []
   },
   "outputs": [],
   "source": [
    "test_dict = test_embedding.set_index('new_query')['emb'].to_dict()"
   ]
  },
  {
   "cell_type": "code",
   "execution_count": 25,
   "id": "ab71f7d7-2bce-49a1-883b-a8493f7e143f",
   "metadata": {
    "execution": {
     "iopub.execute_input": "2024-05-24T09:14:32.779655Z",
     "iopub.status.busy": "2024-05-24T09:14:32.779229Z",
     "iopub.status.idle": "2024-05-24T09:14:32.783241Z",
     "shell.execute_reply": "2024-05-24T09:14:32.782628Z",
     "shell.execute_reply.started": "2024-05-24T09:14:32.779622Z"
    },
    "tags": []
   },
   "outputs": [],
   "source": [
    "for query, emb in test_dict.items():\n",
    "    query = query\n",
    "    emb = emb \n",
    "    break"
   ]
  },
  {
   "cell_type": "code",
   "execution_count": 27,
   "id": "4f2f54e5-f8e7-41fa-8d99-99e3eaf983ee",
   "metadata": {
    "execution": {
     "iopub.execute_input": "2024-05-24T09:15:30.406425Z",
     "iopub.status.busy": "2024-05-24T09:15:30.406013Z",
     "iopub.status.idle": "2024-05-24T09:15:30.409952Z",
     "shell.execute_reply": "2024-05-24T09:15:30.409328Z",
     "shell.execute_reply.started": "2024-05-24T09:15:30.406393Z"
    },
    "tags": []
   },
   "outputs": [],
   "source": [
    "source = [\"svc_mgmt_num\", \"mno_profiles\", \"adot_profiles\"]"
   ]
  },
  {
   "cell_type": "code",
   "execution_count": 12,
   "id": "61a6357c-2238-4491-ab85-10542beba998",
   "metadata": {
    "execution": {
     "iopub.execute_input": "2024-05-24T09:06:40.181254Z",
     "iopub.status.busy": "2024-05-24T09:06:40.180783Z",
     "iopub.status.idle": "2024-05-24T09:06:40.186285Z",
     "shell.execute_reply": "2024-05-24T09:06:40.185570Z",
     "shell.execute_reply.started": "2024-05-24T09:06:40.181220Z"
    },
    "tags": []
   },
   "outputs": [],
   "source": [
    "from typing import List, Dict\n",
    "def vector_get_base_query(\n",
    "        vector,\n",
    "        source: List = [], \n",
    "        W: Dict = {},\n",
    "    ):\n",
    "    size = W.get(\"size\", 5)\n",
    "    base_query_dsl = {\n",
    "        \"_source\": source,\n",
    "        \"size\": size,\n",
    "        \"query\": {\n",
    "            \"knn\": {\n",
    "                \"user_vector\": {\n",
    "                    \"vector\": vector,\n",
    "                    \"k\": size\n",
    "                }\n",
    "            }\n",
    "        }\n",
    "    }\n",
    "    return base_query_dsl"
   ]
  },
  {
   "cell_type": "code",
   "execution_count": 28,
   "id": "46668b72-436f-4c4e-b94d-e4437b7f5e3e",
   "metadata": {
    "execution": {
     "iopub.execute_input": "2024-05-24T09:15:57.420492Z",
     "iopub.status.busy": "2024-05-24T09:15:57.420061Z",
     "iopub.status.idle": "2024-05-24T09:15:57.424919Z",
     "shell.execute_reply": "2024-05-24T09:15:57.423795Z",
     "shell.execute_reply.started": "2024-05-24T09:15:57.420460Z"
    },
    "tags": []
   },
   "outputs": [],
   "source": [
    "vector_query = vector_get_base_query(vector=emb, source=source)"
   ]
  },
  {
   "cell_type": "code",
   "execution_count": 29,
   "id": "6376dd71-cfc1-4277-b082-08614ab24f7e",
   "metadata": {
    "execution": {
     "iopub.execute_input": "2024-05-24T09:16:01.072015Z",
     "iopub.status.busy": "2024-05-24T09:16:01.071599Z",
     "iopub.status.idle": "2024-05-24T09:16:03.840070Z",
     "shell.execute_reply": "2024-05-24T09:16:03.839149Z",
     "shell.execute_reply.started": "2024-05-24T09:16:01.071984Z"
    },
    "tags": []
   },
   "outputs": [
    {
     "ename": "RequestError",
     "evalue": "RequestError(400, 'search_phase_execution_exception', \"failed to create query: Field 'user_vector' is not knn_vector type.\")",
     "output_type": "error",
     "traceback": [
      "\u001b[0;31m---------------------------------------------------------------------------\u001b[0m",
      "\u001b[0;31mRequestError\u001b[0m                              Traceback (most recent call last)",
      "Cell \u001b[0;32mIn[29], line 1\u001b[0m\n\u001b[0;32m----> 1\u001b[0m response \u001b[38;5;241m=\u001b[39m \u001b[43mclient\u001b[49m\u001b[38;5;241;43m.\u001b[39;49m\u001b[43msearch\u001b[49m\u001b[43m(\u001b[49m\n\u001b[1;32m      2\u001b[0m \u001b[43m    \u001b[49m\u001b[43mbody\u001b[49m\u001b[43m \u001b[49m\u001b[38;5;241;43m=\u001b[39;49m\u001b[43m \u001b[49m\u001b[43mvector_query\u001b[49m\u001b[43m,\u001b[49m\n\u001b[1;32m      3\u001b[0m \u001b[43m    \u001b[49m\u001b[43mindex\u001b[49m\u001b[43m \u001b[49m\u001b[38;5;241;43m=\u001b[39;49m\u001b[43m \u001b[49m\u001b[43mindex_name\u001b[49m\n\u001b[1;32m      4\u001b[0m \u001b[43m)\u001b[49m\n",
      "File \u001b[0;32m/usr/local/lib/python3.8/site-packages/opensearchpy/client/utils.py:180\u001b[0m, in \u001b[0;36mquery_params.<locals>._wrapper.<locals>._wrapped\u001b[0;34m(*args, **kwargs)\u001b[0m\n\u001b[1;32m    177\u001b[0m         \u001b[38;5;28;01mif\u001b[39;00m v \u001b[38;5;129;01mis\u001b[39;00m \u001b[38;5;129;01mnot\u001b[39;00m \u001b[38;5;28;01mNone\u001b[39;00m:\n\u001b[1;32m    178\u001b[0m             params[p] \u001b[38;5;241m=\u001b[39m _escape(v)\n\u001b[0;32m--> 180\u001b[0m \u001b[38;5;28;01mreturn\u001b[39;00m \u001b[43mfunc\u001b[49m\u001b[43m(\u001b[49m\u001b[38;5;241;43m*\u001b[39;49m\u001b[43margs\u001b[49m\u001b[43m,\u001b[49m\u001b[43m \u001b[49m\u001b[43mparams\u001b[49m\u001b[38;5;241;43m=\u001b[39;49m\u001b[43mparams\u001b[49m\u001b[43m,\u001b[49m\u001b[43m \u001b[49m\u001b[43mheaders\u001b[49m\u001b[38;5;241;43m=\u001b[39;49m\u001b[43mheaders\u001b[49m\u001b[43m,\u001b[49m\u001b[43m \u001b[49m\u001b[38;5;241;43m*\u001b[39;49m\u001b[38;5;241;43m*\u001b[39;49m\u001b[43mkwargs\u001b[49m\u001b[43m)\u001b[49m\n",
      "File \u001b[0;32m/usr/local/lib/python3.8/site-packages/opensearchpy/client/__init__.py:1748\u001b[0m, in \u001b[0;36mOpenSearch.search\u001b[0;34m(self, body, index, params, headers)\u001b[0m\n\u001b[1;32m   1745\u001b[0m \u001b[38;5;28;01mif\u001b[39;00m \u001b[38;5;124m\"\u001b[39m\u001b[38;5;124mfrom_\u001b[39m\u001b[38;5;124m\"\u001b[39m \u001b[38;5;129;01min\u001b[39;00m params:\n\u001b[1;32m   1746\u001b[0m     params[\u001b[38;5;124m\"\u001b[39m\u001b[38;5;124mfrom\u001b[39m\u001b[38;5;124m\"\u001b[39m] \u001b[38;5;241m=\u001b[39m params\u001b[38;5;241m.\u001b[39mpop(\u001b[38;5;124m\"\u001b[39m\u001b[38;5;124mfrom_\u001b[39m\u001b[38;5;124m\"\u001b[39m)\n\u001b[0;32m-> 1748\u001b[0m \u001b[38;5;28;01mreturn\u001b[39;00m \u001b[38;5;28;43mself\u001b[39;49m\u001b[38;5;241;43m.\u001b[39;49m\u001b[43mtransport\u001b[49m\u001b[38;5;241;43m.\u001b[39;49m\u001b[43mperform_request\u001b[49m\u001b[43m(\u001b[49m\n\u001b[1;32m   1749\u001b[0m \u001b[43m    \u001b[49m\u001b[38;5;124;43m\"\u001b[39;49m\u001b[38;5;124;43mPOST\u001b[39;49m\u001b[38;5;124;43m\"\u001b[39;49m\u001b[43m,\u001b[49m\n\u001b[1;32m   1750\u001b[0m \u001b[43m    \u001b[49m\u001b[43m_make_path\u001b[49m\u001b[43m(\u001b[49m\u001b[43mindex\u001b[49m\u001b[43m,\u001b[49m\u001b[43m \u001b[49m\u001b[38;5;124;43m\"\u001b[39;49m\u001b[38;5;124;43m_search\u001b[39;49m\u001b[38;5;124;43m\"\u001b[39;49m\u001b[43m)\u001b[49m\u001b[43m,\u001b[49m\n\u001b[1;32m   1751\u001b[0m \u001b[43m    \u001b[49m\u001b[43mparams\u001b[49m\u001b[38;5;241;43m=\u001b[39;49m\u001b[43mparams\u001b[49m\u001b[43m,\u001b[49m\n\u001b[1;32m   1752\u001b[0m \u001b[43m    \u001b[49m\u001b[43mheaders\u001b[49m\u001b[38;5;241;43m=\u001b[39;49m\u001b[43mheaders\u001b[49m\u001b[43m,\u001b[49m\n\u001b[1;32m   1753\u001b[0m \u001b[43m    \u001b[49m\u001b[43mbody\u001b[49m\u001b[38;5;241;43m=\u001b[39;49m\u001b[43mbody\u001b[49m\u001b[43m,\u001b[49m\n\u001b[1;32m   1754\u001b[0m \u001b[43m\u001b[49m\u001b[43m)\u001b[49m\n",
      "File \u001b[0;32m/usr/local/lib/python3.8/site-packages/opensearchpy/transport.py:447\u001b[0m, in \u001b[0;36mTransport.perform_request\u001b[0;34m(self, method, url, params, body, timeout, ignore, headers)\u001b[0m\n\u001b[1;32m    445\u001b[0m             \u001b[38;5;28;01mraise\u001b[39;00m e\n\u001b[1;32m    446\u001b[0m     \u001b[38;5;28;01melse\u001b[39;00m:\n\u001b[0;32m--> 447\u001b[0m         \u001b[38;5;28;01mraise\u001b[39;00m e\n\u001b[1;32m    449\u001b[0m \u001b[38;5;28;01melse\u001b[39;00m:\n\u001b[1;32m    450\u001b[0m     \u001b[38;5;66;03m# connection didn't fail, confirm its live status\u001b[39;00m\n\u001b[1;32m    451\u001b[0m     \u001b[38;5;28mself\u001b[39m\u001b[38;5;241m.\u001b[39mconnection_pool\u001b[38;5;241m.\u001b[39mmark_live(connection)\n",
      "File \u001b[0;32m/usr/local/lib/python3.8/site-packages/opensearchpy/transport.py:408\u001b[0m, in \u001b[0;36mTransport.perform_request\u001b[0;34m(self, method, url, params, body, timeout, ignore, headers)\u001b[0m\n\u001b[1;32m    405\u001b[0m connection \u001b[38;5;241m=\u001b[39m \u001b[38;5;28mself\u001b[39m\u001b[38;5;241m.\u001b[39mget_connection()\n\u001b[1;32m    407\u001b[0m \u001b[38;5;28;01mtry\u001b[39;00m:\n\u001b[0;32m--> 408\u001b[0m     status, headers_response, data \u001b[38;5;241m=\u001b[39m \u001b[43mconnection\u001b[49m\u001b[38;5;241;43m.\u001b[39;49m\u001b[43mperform_request\u001b[49m\u001b[43m(\u001b[49m\n\u001b[1;32m    409\u001b[0m \u001b[43m        \u001b[49m\u001b[43mmethod\u001b[49m\u001b[43m,\u001b[49m\n\u001b[1;32m    410\u001b[0m \u001b[43m        \u001b[49m\u001b[43murl\u001b[49m\u001b[43m,\u001b[49m\n\u001b[1;32m    411\u001b[0m \u001b[43m        \u001b[49m\u001b[43mparams\u001b[49m\u001b[43m,\u001b[49m\n\u001b[1;32m    412\u001b[0m \u001b[43m        \u001b[49m\u001b[43mbody\u001b[49m\u001b[43m,\u001b[49m\n\u001b[1;32m    413\u001b[0m \u001b[43m        \u001b[49m\u001b[43mheaders\u001b[49m\u001b[38;5;241;43m=\u001b[39;49m\u001b[43mheaders\u001b[49m\u001b[43m,\u001b[49m\n\u001b[1;32m    414\u001b[0m \u001b[43m        \u001b[49m\u001b[43mignore\u001b[49m\u001b[38;5;241;43m=\u001b[39;49m\u001b[43mignore\u001b[49m\u001b[43m,\u001b[49m\n\u001b[1;32m    415\u001b[0m \u001b[43m        \u001b[49m\u001b[43mtimeout\u001b[49m\u001b[38;5;241;43m=\u001b[39;49m\u001b[43mtimeout\u001b[49m\u001b[43m,\u001b[49m\n\u001b[1;32m    416\u001b[0m \u001b[43m    \u001b[49m\u001b[43m)\u001b[49m\n\u001b[1;32m    418\u001b[0m     \u001b[38;5;66;03m# Lowercase all the header names for consistency in accessing them.\u001b[39;00m\n\u001b[1;32m    419\u001b[0m     headers_response \u001b[38;5;241m=\u001b[39m {\n\u001b[1;32m    420\u001b[0m         header\u001b[38;5;241m.\u001b[39mlower(): value \u001b[38;5;28;01mfor\u001b[39;00m header, value \u001b[38;5;129;01min\u001b[39;00m headers_response\u001b[38;5;241m.\u001b[39mitems()\n\u001b[1;32m    421\u001b[0m     }\n",
      "File \u001b[0;32m/usr/local/lib/python3.8/site-packages/opensearchpy/connection/http_urllib3.py:297\u001b[0m, in \u001b[0;36mUrllib3HttpConnection.perform_request\u001b[0;34m(self, method, url, params, body, timeout, ignore, headers)\u001b[0m\n\u001b[1;32m    293\u001b[0m \u001b[38;5;28;01mif\u001b[39;00m \u001b[38;5;129;01mnot\u001b[39;00m (\u001b[38;5;241m200\u001b[39m \u001b[38;5;241m<\u001b[39m\u001b[38;5;241m=\u001b[39m response\u001b[38;5;241m.\u001b[39mstatus \u001b[38;5;241m<\u001b[39m \u001b[38;5;241m300\u001b[39m) \u001b[38;5;129;01mand\u001b[39;00m response\u001b[38;5;241m.\u001b[39mstatus \u001b[38;5;129;01mnot\u001b[39;00m \u001b[38;5;129;01min\u001b[39;00m ignore:\n\u001b[1;32m    294\u001b[0m     \u001b[38;5;28mself\u001b[39m\u001b[38;5;241m.\u001b[39mlog_request_fail(\n\u001b[1;32m    295\u001b[0m         method, full_url, url, orig_body, duration, response\u001b[38;5;241m.\u001b[39mstatus, raw_data\n\u001b[1;32m    296\u001b[0m     )\n\u001b[0;32m--> 297\u001b[0m     \u001b[38;5;28;43mself\u001b[39;49m\u001b[38;5;241;43m.\u001b[39;49m\u001b[43m_raise_error\u001b[49m\u001b[43m(\u001b[49m\n\u001b[1;32m    298\u001b[0m \u001b[43m        \u001b[49m\u001b[43mresponse\u001b[49m\u001b[38;5;241;43m.\u001b[39;49m\u001b[43mstatus\u001b[49m\u001b[43m,\u001b[49m\n\u001b[1;32m    299\u001b[0m \u001b[43m        \u001b[49m\u001b[43mraw_data\u001b[49m\u001b[43m,\u001b[49m\n\u001b[1;32m    300\u001b[0m \u001b[43m        \u001b[49m\u001b[38;5;28;43mself\u001b[39;49m\u001b[38;5;241;43m.\u001b[39;49m\u001b[43mget_response_headers\u001b[49m\u001b[43m(\u001b[49m\u001b[43mresponse\u001b[49m\u001b[43m)\u001b[49m\u001b[38;5;241;43m.\u001b[39;49m\u001b[43mget\u001b[49m\u001b[43m(\u001b[49m\u001b[38;5;124;43m\"\u001b[39;49m\u001b[38;5;124;43mcontent-type\u001b[39;49m\u001b[38;5;124;43m\"\u001b[39;49m\u001b[43m)\u001b[49m\u001b[43m,\u001b[49m\n\u001b[1;32m    301\u001b[0m \u001b[43m    \u001b[49m\u001b[43m)\u001b[49m\n\u001b[1;32m    303\u001b[0m \u001b[38;5;28mself\u001b[39m\u001b[38;5;241m.\u001b[39mlog_request_success(\n\u001b[1;32m    304\u001b[0m     method, full_url, url, orig_body, response\u001b[38;5;241m.\u001b[39mstatus, raw_data, duration\n\u001b[1;32m    305\u001b[0m )\n\u001b[1;32m    307\u001b[0m \u001b[38;5;28;01mreturn\u001b[39;00m response\u001b[38;5;241m.\u001b[39mstatus, response\u001b[38;5;241m.\u001b[39mheaders, raw_data\n",
      "File \u001b[0;32m/usr/local/lib/python3.8/site-packages/opensearchpy/connection/base.py:315\u001b[0m, in \u001b[0;36mConnection._raise_error\u001b[0;34m(self, status_code, raw_data, content_type)\u001b[0m\n\u001b[1;32m    312\u001b[0m \u001b[38;5;28;01mexcept\u001b[39;00m (\u001b[38;5;167;01mValueError\u001b[39;00m, \u001b[38;5;167;01mTypeError\u001b[39;00m) \u001b[38;5;28;01mas\u001b[39;00m err:\n\u001b[1;32m    313\u001b[0m     logger\u001b[38;5;241m.\u001b[39mwarning(\u001b[38;5;124m\"\u001b[39m\u001b[38;5;124mUndecodable raw error response from server: \u001b[39m\u001b[38;5;132;01m%s\u001b[39;00m\u001b[38;5;124m\"\u001b[39m, err)\n\u001b[0;32m--> 315\u001b[0m \u001b[38;5;28;01mraise\u001b[39;00m HTTP_EXCEPTIONS\u001b[38;5;241m.\u001b[39mget(status_code, TransportError)(\n\u001b[1;32m    316\u001b[0m     status_code, error_message, additional_info\n\u001b[1;32m    317\u001b[0m )\n",
      "\u001b[0;31mRequestError\u001b[0m: RequestError(400, 'search_phase_execution_exception', \"failed to create query: Field 'user_vector' is not knn_vector type.\")"
     ]
    }
   ],
   "source": [
    "response = client.search(\n",
    "    body = vector_query,\n",
    "    index = index_name\n",
    ")"
   ]
  },
  {
   "cell_type": "code",
   "execution_count": 35,
   "id": "94898acb-abbe-4ce6-872f-f7005202bc89",
   "metadata": {
    "execution": {
     "iopub.execute_input": "2024-05-24T05:02:31.173789Z",
     "iopub.status.busy": "2024-05-24T05:02:31.173386Z",
     "iopub.status.idle": "2024-05-24T05:02:31.179560Z",
     "shell.execute_reply": "2024-05-24T05:02:31.178973Z",
     "shell.execute_reply.started": "2024-05-24T05:02:31.173758Z"
    },
    "tags": []
   },
   "outputs": [
    {
     "data": {
      "text/plain": [
       "{'took': 85,\n",
       " 'timed_out': False,\n",
       " '_shards': {'total': 4, 'successful': 4, 'skipped': 0, 'failed': 0},\n",
       " 'hits': {'total': {'value': 648, 'relation': 'eq'},\n",
       "  'max_score': 3.9907799,\n",
       "  'hits': [{'_index': 'onemodel_v3_inital_test_20240512',\n",
       "    '_id': 'e209b6f0a9459257fe607e9db08d9fc2fb526ca00af18783660b947c6132e2b5',\n",
       "    '_score': 3.9907799,\n",
       "    '_source': {'svc_mgmt_num': 'e209b6f0a9459257fe607e9db08d9fc2fb526ca00af18783660b947c6132e2b5',\n",
       "     'mno_profiles': '관심사:라이프스타일/취미_소셜 미디어,차량/운송_콜택시,차량/운송_차 구매<|n|>성별:남자<|n|>나이:47세<|n|>서비스 사용 기간:11년<|n|>기변 후 경과일:266일<|n|>요금제 이름:5GX 레귤러<|n|>요금제 가격:69000원<|n|>3개월 평균 데이터 사용량:9gb<|n|>단말기 가격:고가<|n|>단말기 제조사:samsung<|n|>멤버십 등급:vip<|n|>멤버십 사용 이력:없음<|n|>가족 결합 이력:있음<|n|>로밍 사용 이력:없음<|n|>세컨디바이스 보유 여부:없음<|n|>소액 및 DCB 결제 이력:0원',\n",
       "     'adot_profiles': '선호 도메인 : 없음<|n|>선호 카테고리 : 없음<|n|>선호 아이템 : 없음<|n|>성별 : 남성<|n|>나이 : 47<|n|>활성 상태 : 휴면<|n|>재방문 비율 : 없음<|n|>다중 도메인 성향 : 없음<|n|>인기 컨텐츠 선호도 : 없음<|n|>사용성 기준 : 라이트유저<|n|>헤비유즈 도메인 : 없음'}},\n",
       "   {'_index': 'onemodel_v3_inital_test_20240512',\n",
       "    '_id': 'e22f19dfd7c987cf33192782b9ba1280b0d3d4b18029c8dea274ba62c99bdf33',\n",
       "    '_score': 3.9907799,\n",
       "    '_source': {'svc_mgmt_num': 'e22f19dfd7c987cf33192782b9ba1280b0d3d4b18029c8dea274ba62c99bdf33',\n",
       "     'mno_profiles': '관심사:산업_부동산,차량/운송_대리운전,차량/운송_자동차 관리/정비<|n|>성별:여자<|n|>나이:61세<|n|>서비스 사용 기간:12년<|n|>기변 후 경과일:0일<|n|>요금제 이름:5GX 프라임<|n|>요금제 가격:89000원<|n|>3개월 평균 데이터 사용량:0gb<|n|>단말기 가격:고가<|n|>단말기 제조사:samsung<|n|>멤버십 등급:gold<|n|>멤버십 사용 이력:없음<|n|>가족 결합 이력:있음<|n|>로밍 사용 이력:없음<|n|>세컨디바이스 보유 여부:없음<|n|>소액 및 DCB 결제 이력:0원',\n",
       "     'adot_profiles': '선호 도메인 : 없음<|n|>선호 카테고리 : 없음<|n|>선호 아이템 : 없음<|n|>성별 : 여성<|n|>나이 : 61<|n|>활성 상태 : 휴면<|n|>재방문 비율 : 없음<|n|>다중 도메인 성향 : 낮음<|n|>인기 컨텐츠 선호도 : 낮음<|n|>사용성 기준 : 라이트유저<|n|>헤비유즈 도메인 : 없음'}},\n",
       "   {'_index': 'onemodel_v3_inital_test_20240512',\n",
       "    '_id': 'e2443ad1418007e9d80d57fe1b48ee688c4a46e7a52ce0168c4e39e0497beb34',\n",
       "    '_score': 3.9907799,\n",
       "    '_source': {'svc_mgmt_num': 'e2443ad1418007e9d80d57fe1b48ee688c4a46e7a52ce0168c4e39e0497beb34',\n",
       "     'mno_profiles': '관심사:미디어/엔터테인먼트_음악,차량/운송_차 구매,차량/운송_기차/버스<|n|>성별:여자<|n|>나이:47세<|n|>서비스 사용 기간:12년<|n|>기변 후 경과일:511일<|n|>요금제 이름:베이직플러스 50GB업<|n|>요금제 가격:66000원<|n|>3개월 평균 데이터 사용량:2gb<|n|>단말기 가격:고가<|n|>단말기 제조사:samsung<|n|>멤버십 등급:vip<|n|>멤버십 사용 이력:있음<|n|>가족 결합 이력:있음<|n|>로밍 사용 이력:없음<|n|>세컨디바이스 보유 여부:없음<|n|>소액 및 DCB 결제 이력:5500원',\n",
       "     'adot_profiles': '선호 도메인 : 없음<|n|>선호 카테고리 : 없음<|n|>선호 아이템 : 없음<|n|>성별 : 여성<|n|>나이 : 47<|n|>활성 상태 : 휴면<|n|>재방문 비율 : 없음<|n|>다중 도메인 성향 : 없음<|n|>인기 컨텐츠 선호도 : 없음<|n|>사용성 기준 : 라이트유저<|n|>헤비유저인 도메인 : T 서비스'}},\n",
       "   {'_index': 'onemodel_v3_inital_test_20240512',\n",
       "    '_id': 'e21827feb3dc03cfed84606f029332d4b30d481daa4e3df9cb68ef9863a31a6e',\n",
       "    '_score': 3.9907799,\n",
       "    '_source': {'svc_mgmt_num': 'e21827feb3dc03cfed84606f029332d4b30d481daa4e3df9cb68ef9863a31a6e',\n",
       "     'mno_profiles': '관심사:라이프스타일/취미_해외 메신저/SNS,차량/운송_대리운전,차량/운송_차 구매<|n|>성별:남자<|n|>나이:53세<|n|>서비스 사용 기간:25년<|n|>기변 후 경과일:211일<|n|>요금제 이름:5GX 프라임<|n|>요금제 가격:89000원<|n|>3개월 평균 데이터 사용량:6gb<|n|>단말기 가격:고가<|n|>단말기 제조사:samsung<|n|>멤버십 등급:vip<|n|>멤버십 사용 이력:있음<|n|>가족 결합 이력:없음<|n|>로밍 사용 이력:없음<|n|>세컨디바이스 보유 여부:없음<|n|>소액 및 DCB 결제 이력:7590원',\n",
       "     'adot_profiles': '선호 도메인 : 없음<|n|>선호 카테고리 : 없음<|n|>선호 아이템 : 없음<|n|>성별 : 남성<|n|>나이 : 53<|n|>활성 상태 : 휴면<|n|>재방문 비율 : 없음<|n|>다중 도메인 성향 : 없음<|n|>인기 컨텐츠 선호도 : 없음<|n|>사용성 기준 : 라이트유저<|n|>헤비유즈 도메인 : 없음'}},\n",
       "   {'_index': 'onemodel_v3_inital_test_20240512',\n",
       "    '_id': 'e2b2b03912f1cc470a2ef52fa270af89a96e62c2ab176007bb0663fcdda3d441',\n",
       "    '_score': 3.829799,\n",
       "    '_source': {'svc_mgmt_num': 'e2b2b03912f1cc470a2ef52fa270af89a96e62c2ab176007bb0663fcdda3d441',\n",
       "     'mno_profiles': '관심사:금융_주식 투자,차량/운송_콜택시,차량/운송_차 구매<|n|>성별:남자<|n|>나이:73세<|n|>서비스 사용 기간:29년<|n|>기변 후 경과일:638일<|n|>요금제 이름:베이직\\u3000<|n|>요금제 가격:49000원<|n|>3개월 평균 데이터 사용량:0gb<|n|>단말기 가격:고가<|n|>단말기 제조사:samsung<|n|>멤버십 등급:gold<|n|>멤버십 사용 이력:없음<|n|>가족 결합 이력:있음<|n|>로밍 사용 이력:없음<|n|>세컨디바이스 보유 여부:있음<|n|>소액 및 DCB 결제 이력:0원',\n",
       "     'adot_profiles': '선호 도메인 : 없음<|n|>선호 카테고리 : 없음<|n|>선호 아이템 : 없음<|n|>성별 : 남성<|n|>나이 : 73<|n|>활성 상태 : 휴면<|n|>재방문 비율 : 없음<|n|>다중 도메인 성향 : 없음<|n|>인기 컨텐츠 선호도 : 없음<|n|>사용성 기준 : 라이트유저<|n|>헤비유즈 도메인 : 없음'}}]}}"
      ]
     },
     "execution_count": 35,
     "metadata": {},
     "output_type": "execute_result"
    }
   ],
   "source": [
    "response"
   ]
  },
  {
   "cell_type": "code",
   "execution_count": null,
   "id": "c108c254-7af5-4d75-b7a4-a400706cecb7",
   "metadata": {},
   "outputs": [],
   "source": [
    "s"
   ]
  }
 ],
 "metadata": {
  "kernelspec": {
   "display_name": "Python 3 (ipykernel)",
   "language": "python",
   "name": "python3"
  },
  "language_info": {
   "codemirror_mode": {
    "name": "ipython",
    "version": 3
   },
   "file_extension": ".py",
   "mimetype": "text/x-python",
   "name": "python",
   "nbconvert_exporter": "python",
   "pygments_lexer": "ipython3",
   "version": "3.8.19"
  }
 },
 "nbformat": 4,
 "nbformat_minor": 5
}
