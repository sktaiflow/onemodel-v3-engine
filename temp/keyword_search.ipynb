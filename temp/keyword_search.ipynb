{
 "cells": [
  {
   "cell_type": "code",
   "execution_count": 4,
   "id": "7389611e-cc35-4f73-8238-a20bb757f564",
   "metadata": {
    "execution": {
     "iopub.execute_input": "2024-05-24T04:46:53.373530Z",
     "iopub.status.busy": "2024-05-24T04:46:53.373111Z",
     "iopub.status.idle": "2024-05-24T04:46:53.376841Z",
     "shell.execute_reply": "2024-05-24T04:46:53.376237Z",
     "shell.execute_reply.started": "2024-05-24T04:46:53.373498Z"
    },
    "tags": []
   },
   "outputs": [],
   "source": [
    "#pip install opensearch-py==2.5.0"
   ]
  },
  {
   "cell_type": "code",
   "execution_count": 5,
   "id": "3d226c92-79e6-4a9a-8ed9-1938850c7796",
   "metadata": {
    "execution": {
     "iopub.execute_input": "2024-05-24T04:46:53.925038Z",
     "iopub.status.busy": "2024-05-24T04:46:53.924650Z",
     "iopub.status.idle": "2024-05-24T04:46:54.172464Z",
     "shell.execute_reply": "2024-05-24T04:46:54.171607Z",
     "shell.execute_reply.started": "2024-05-24T04:46:53.925008Z"
    },
    "tags": []
   },
   "outputs": [],
   "source": [
    "from opensearchpy import helpers, OpenSearch"
   ]
  },
  {
   "cell_type": "code",
   "execution_count": 6,
   "id": "2f63b5c2-aa16-4060-904f-073e7809a00e",
   "metadata": {
    "execution": {
     "iopub.execute_input": "2024-05-24T04:46:54.174463Z",
     "iopub.status.busy": "2024-05-24T04:46:54.173929Z",
     "iopub.status.idle": "2024-05-24T04:46:54.178005Z",
     "shell.execute_reply": "2024-05-24T04:46:54.177431Z",
     "shell.execute_reply.started": "2024-05-24T04:46:54.174431Z"
    },
    "tags": []
   },
   "outputs": [],
   "source": [
    "stg_vpce_opensearch = \"aos-ef399bbbead7-qs5jilysrng2oxiiayoxwtklki.ap-northeast-2.es.amazonaws.com\"\n",
    "PORT = 443"
   ]
  },
  {
   "cell_type": "code",
   "execution_count": 7,
   "id": "9a0efd6a-ee5c-4576-a202-4ad26f9327ea",
   "metadata": {
    "execution": {
     "iopub.execute_input": "2024-05-24T04:46:54.321315Z",
     "iopub.status.busy": "2024-05-24T04:46:54.320919Z",
     "iopub.status.idle": "2024-05-24T04:46:54.325904Z",
     "shell.execute_reply": "2024-05-24T04:46:54.325305Z",
     "shell.execute_reply.started": "2024-05-24T04:46:54.321277Z"
    },
    "tags": []
   },
   "outputs": [],
   "source": [
    "client = OpenSearch(\n",
    "    hosts = [{\"host\": stg_vpce_opensearch, \"port\": PORT}],\n",
    "    http_compress=True,\n",
    "    use_ssl=True,\n",
    "    verify_certs=True,\n",
    "    timeout=2,\n",
    "    pool_maxsize=40,\n",
    "    http_auth=(\"TheMasterUser\", \"Developer_rec_stg1!\"),\n",
    ")"
   ]
  },
  {
   "cell_type": "code",
   "execution_count": 8,
   "id": "782319e1-ee92-4d74-836d-c4052f804e77",
   "metadata": {
    "execution": {
     "iopub.execute_input": "2024-05-24T04:46:56.264055Z",
     "iopub.status.busy": "2024-05-24T04:46:56.263662Z",
     "iopub.status.idle": "2024-05-24T04:46:56.267481Z",
     "shell.execute_reply": "2024-05-24T04:46:56.266847Z",
     "shell.execute_reply.started": "2024-05-24T04:46:56.264025Z"
    },
    "tags": []
   },
   "outputs": [],
   "source": [
    "index_name = 'onemodel_v3_inital_test_20240512'"
   ]
  },
  {
   "cell_type": "code",
   "execution_count": 5,
   "id": "0c15eb45-aad0-4711-9ca2-c87e696ec892",
   "metadata": {
    "execution": {
     "iopub.execute_input": "2024-05-23T02:31:45.203304Z",
     "iopub.status.busy": "2024-05-23T02:31:45.202838Z",
     "iopub.status.idle": "2024-05-23T02:31:45.206713Z",
     "shell.execute_reply": "2024-05-23T02:31:45.206109Z",
     "shell.execute_reply.started": "2024-05-23T02:31:45.203272Z"
    },
    "tags": []
   },
   "outputs": [],
   "source": [
    "index_doc = {\"index\": index_name}"
   ]
  },
  {
   "cell_type": "code",
   "execution_count": 24,
   "id": "54fbfdb8-f00a-4f1d-bb07-bb2027355312",
   "metadata": {
    "execution": {
     "iopub.execute_input": "2024-05-24T04:59:35.440736Z",
     "iopub.status.busy": "2024-05-24T04:59:35.440321Z",
     "iopub.status.idle": "2024-05-24T04:59:35.444212Z",
     "shell.execute_reply": "2024-05-24T04:59:35.443602Z",
     "shell.execute_reply.started": "2024-05-24T04:59:35.440704Z"
    },
    "tags": []
   },
   "outputs": [],
   "source": [
    "match_all_query = {\n",
    "  'size': 3,\n",
    "    \"query\": {\n",
    "            \"match_all\": {}\n",
    "    }\n",
    "  }"
   ]
  },
  {
   "cell_type": "code",
   "execution_count": 28,
   "id": "972d6ee9-f4ef-49a6-b7a3-4cccb44a1cf1",
   "metadata": {
    "execution": {
     "iopub.execute_input": "2024-05-24T05:00:40.142678Z",
     "iopub.status.busy": "2024-05-24T05:00:40.142258Z",
     "iopub.status.idle": "2024-05-24T05:00:40.146361Z",
     "shell.execute_reply": "2024-05-24T05:00:40.145722Z",
     "shell.execute_reply.started": "2024-05-24T05:00:40.142648Z"
    },
    "tags": []
   },
   "outputs": [],
   "source": [
    "should_query = [{\"multi_match\":{\"query\": \"차량\", \"fields\": ['mno_profiles', 'adot_profiles']}}]"
   ]
  },
  {
   "cell_type": "code",
   "execution_count": 33,
   "id": "693e94e7-c88f-4660-a588-beaae7419738",
   "metadata": {
    "execution": {
     "iopub.execute_input": "2024-05-24T05:02:28.796073Z",
     "iopub.status.busy": "2024-05-24T05:02:28.795648Z",
     "iopub.status.idle": "2024-05-24T05:02:28.799798Z",
     "shell.execute_reply": "2024-05-24T05:02:28.799181Z",
     "shell.execute_reply.started": "2024-05-24T05:02:28.796043Z"
    },
    "tags": []
   },
   "outputs": [],
   "source": [
    "keyword_should_query = {\n",
    "  \"_source\": [\"svc_mgmt_num\", \"mno_profiles\", \"adot_profiles\"],\n",
    "  \"size\": 5,\n",
    "  \"query\": {\n",
    "    \"bool\":{\n",
    "        \"should\": should_query,\n",
    "        \"must\": must_query\n",
    "    }\n",
    "  },\n",
    "}"
   ]
  },
  {
   "cell_type": "code",
   "execution_count": null,
   "id": "1da60074-537f-49b0-98d6-b5c5b3d65487",
   "metadata": {},
   "outputs": [],
   "source": [
    "filter_query = "
   ]
  },
  {
   "cell_type": "code",
   "execution_count": 34,
   "id": "6376dd71-cfc1-4277-b082-08614ab24f7e",
   "metadata": {
    "execution": {
     "iopub.execute_input": "2024-05-24T05:02:29.872764Z",
     "iopub.status.busy": "2024-05-24T05:02:29.872146Z",
     "iopub.status.idle": "2024-05-24T05:02:30.364315Z",
     "shell.execute_reply": "2024-05-24T05:02:30.363642Z",
     "shell.execute_reply.started": "2024-05-24T05:02:29.872733Z"
    },
    "tags": []
   },
   "outputs": [],
   "source": [
    "response = client.search(\n",
    "    body = keyword_should_query,\n",
    "    index = index_name\n",
    ")"
   ]
  },
  {
   "cell_type": "code",
   "execution_count": 35,
   "id": "94898acb-abbe-4ce6-872f-f7005202bc89",
   "metadata": {
    "execution": {
     "iopub.execute_input": "2024-05-24T05:02:31.173789Z",
     "iopub.status.busy": "2024-05-24T05:02:31.173386Z",
     "iopub.status.idle": "2024-05-24T05:02:31.179560Z",
     "shell.execute_reply": "2024-05-24T05:02:31.178973Z",
     "shell.execute_reply.started": "2024-05-24T05:02:31.173758Z"
    },
    "tags": []
   },
   "outputs": [
    {
     "data": {
      "text/plain": [
       "{'took': 85,\n",
       " 'timed_out': False,\n",
       " '_shards': {'total': 4, 'successful': 4, 'skipped': 0, 'failed': 0},\n",
       " 'hits': {'total': {'value': 648, 'relation': 'eq'},\n",
       "  'max_score': 3.9907799,\n",
       "  'hits': [{'_index': 'onemodel_v3_inital_test_20240512',\n",
       "    '_id': 'e209b6f0a9459257fe607e9db08d9fc2fb526ca00af18783660b947c6132e2b5',\n",
       "    '_score': 3.9907799,\n",
       "    '_source': {'svc_mgmt_num': 'e209b6f0a9459257fe607e9db08d9fc2fb526ca00af18783660b947c6132e2b5',\n",
       "     'mno_profiles': '관심사:라이프스타일/취미_소셜 미디어,차량/운송_콜택시,차량/운송_차 구매<|n|>성별:남자<|n|>나이:47세<|n|>서비스 사용 기간:11년<|n|>기변 후 경과일:266일<|n|>요금제 이름:5GX 레귤러<|n|>요금제 가격:69000원<|n|>3개월 평균 데이터 사용량:9gb<|n|>단말기 가격:고가<|n|>단말기 제조사:samsung<|n|>멤버십 등급:vip<|n|>멤버십 사용 이력:없음<|n|>가족 결합 이력:있음<|n|>로밍 사용 이력:없음<|n|>세컨디바이스 보유 여부:없음<|n|>소액 및 DCB 결제 이력:0원',\n",
       "     'adot_profiles': '선호 도메인 : 없음<|n|>선호 카테고리 : 없음<|n|>선호 아이템 : 없음<|n|>성별 : 남성<|n|>나이 : 47<|n|>활성 상태 : 휴면<|n|>재방문 비율 : 없음<|n|>다중 도메인 성향 : 없음<|n|>인기 컨텐츠 선호도 : 없음<|n|>사용성 기준 : 라이트유저<|n|>헤비유즈 도메인 : 없음'}},\n",
       "   {'_index': 'onemodel_v3_inital_test_20240512',\n",
       "    '_id': 'e22f19dfd7c987cf33192782b9ba1280b0d3d4b18029c8dea274ba62c99bdf33',\n",
       "    '_score': 3.9907799,\n",
       "    '_source': {'svc_mgmt_num': 'e22f19dfd7c987cf33192782b9ba1280b0d3d4b18029c8dea274ba62c99bdf33',\n",
       "     'mno_profiles': '관심사:산업_부동산,차량/운송_대리운전,차량/운송_자동차 관리/정비<|n|>성별:여자<|n|>나이:61세<|n|>서비스 사용 기간:12년<|n|>기변 후 경과일:0일<|n|>요금제 이름:5GX 프라임<|n|>요금제 가격:89000원<|n|>3개월 평균 데이터 사용량:0gb<|n|>단말기 가격:고가<|n|>단말기 제조사:samsung<|n|>멤버십 등급:gold<|n|>멤버십 사용 이력:없음<|n|>가족 결합 이력:있음<|n|>로밍 사용 이력:없음<|n|>세컨디바이스 보유 여부:없음<|n|>소액 및 DCB 결제 이력:0원',\n",
       "     'adot_profiles': '선호 도메인 : 없음<|n|>선호 카테고리 : 없음<|n|>선호 아이템 : 없음<|n|>성별 : 여성<|n|>나이 : 61<|n|>활성 상태 : 휴면<|n|>재방문 비율 : 없음<|n|>다중 도메인 성향 : 낮음<|n|>인기 컨텐츠 선호도 : 낮음<|n|>사용성 기준 : 라이트유저<|n|>헤비유즈 도메인 : 없음'}},\n",
       "   {'_index': 'onemodel_v3_inital_test_20240512',\n",
       "    '_id': 'e2443ad1418007e9d80d57fe1b48ee688c4a46e7a52ce0168c4e39e0497beb34',\n",
       "    '_score': 3.9907799,\n",
       "    '_source': {'svc_mgmt_num': 'e2443ad1418007e9d80d57fe1b48ee688c4a46e7a52ce0168c4e39e0497beb34',\n",
       "     'mno_profiles': '관심사:미디어/엔터테인먼트_음악,차량/운송_차 구매,차량/운송_기차/버스<|n|>성별:여자<|n|>나이:47세<|n|>서비스 사용 기간:12년<|n|>기변 후 경과일:511일<|n|>요금제 이름:베이직플러스 50GB업<|n|>요금제 가격:66000원<|n|>3개월 평균 데이터 사용량:2gb<|n|>단말기 가격:고가<|n|>단말기 제조사:samsung<|n|>멤버십 등급:vip<|n|>멤버십 사용 이력:있음<|n|>가족 결합 이력:있음<|n|>로밍 사용 이력:없음<|n|>세컨디바이스 보유 여부:없음<|n|>소액 및 DCB 결제 이력:5500원',\n",
       "     'adot_profiles': '선호 도메인 : 없음<|n|>선호 카테고리 : 없음<|n|>선호 아이템 : 없음<|n|>성별 : 여성<|n|>나이 : 47<|n|>활성 상태 : 휴면<|n|>재방문 비율 : 없음<|n|>다중 도메인 성향 : 없음<|n|>인기 컨텐츠 선호도 : 없음<|n|>사용성 기준 : 라이트유저<|n|>헤비유저인 도메인 : T 서비스'}},\n",
       "   {'_index': 'onemodel_v3_inital_test_20240512',\n",
       "    '_id': 'e21827feb3dc03cfed84606f029332d4b30d481daa4e3df9cb68ef9863a31a6e',\n",
       "    '_score': 3.9907799,\n",
       "    '_source': {'svc_mgmt_num': 'e21827feb3dc03cfed84606f029332d4b30d481daa4e3df9cb68ef9863a31a6e',\n",
       "     'mno_profiles': '관심사:라이프스타일/취미_해외 메신저/SNS,차량/운송_대리운전,차량/운송_차 구매<|n|>성별:남자<|n|>나이:53세<|n|>서비스 사용 기간:25년<|n|>기변 후 경과일:211일<|n|>요금제 이름:5GX 프라임<|n|>요금제 가격:89000원<|n|>3개월 평균 데이터 사용량:6gb<|n|>단말기 가격:고가<|n|>단말기 제조사:samsung<|n|>멤버십 등급:vip<|n|>멤버십 사용 이력:있음<|n|>가족 결합 이력:없음<|n|>로밍 사용 이력:없음<|n|>세컨디바이스 보유 여부:없음<|n|>소액 및 DCB 결제 이력:7590원',\n",
       "     'adot_profiles': '선호 도메인 : 없음<|n|>선호 카테고리 : 없음<|n|>선호 아이템 : 없음<|n|>성별 : 남성<|n|>나이 : 53<|n|>활성 상태 : 휴면<|n|>재방문 비율 : 없음<|n|>다중 도메인 성향 : 없음<|n|>인기 컨텐츠 선호도 : 없음<|n|>사용성 기준 : 라이트유저<|n|>헤비유즈 도메인 : 없음'}},\n",
       "   {'_index': 'onemodel_v3_inital_test_20240512',\n",
       "    '_id': 'e2b2b03912f1cc470a2ef52fa270af89a96e62c2ab176007bb0663fcdda3d441',\n",
       "    '_score': 3.829799,\n",
       "    '_source': {'svc_mgmt_num': 'e2b2b03912f1cc470a2ef52fa270af89a96e62c2ab176007bb0663fcdda3d441',\n",
       "     'mno_profiles': '관심사:금융_주식 투자,차량/운송_콜택시,차량/운송_차 구매<|n|>성별:남자<|n|>나이:73세<|n|>서비스 사용 기간:29년<|n|>기변 후 경과일:638일<|n|>요금제 이름:베이직\\u3000<|n|>요금제 가격:49000원<|n|>3개월 평균 데이터 사용량:0gb<|n|>단말기 가격:고가<|n|>단말기 제조사:samsung<|n|>멤버십 등급:gold<|n|>멤버십 사용 이력:없음<|n|>가족 결합 이력:있음<|n|>로밍 사용 이력:없음<|n|>세컨디바이스 보유 여부:있음<|n|>소액 및 DCB 결제 이력:0원',\n",
       "     'adot_profiles': '선호 도메인 : 없음<|n|>선호 카테고리 : 없음<|n|>선호 아이템 : 없음<|n|>성별 : 남성<|n|>나이 : 73<|n|>활성 상태 : 휴면<|n|>재방문 비율 : 없음<|n|>다중 도메인 성향 : 없음<|n|>인기 컨텐츠 선호도 : 없음<|n|>사용성 기준 : 라이트유저<|n|>헤비유즈 도메인 : 없음'}}]}}"
      ]
     },
     "execution_count": 35,
     "metadata": {},
     "output_type": "execute_result"
    }
   ],
   "source": [
    "response"
   ]
  },
  {
   "cell_type": "code",
   "execution_count": null,
   "id": "c108c254-7af5-4d75-b7a4-a400706cecb7",
   "metadata": {},
   "outputs": [],
   "source": [
    "s"
   ]
  }
 ],
 "metadata": {
  "kernelspec": {
   "display_name": "Python 3 (ipykernel)",
   "language": "python",
   "name": "python3"
  },
  "language_info": {
   "codemirror_mode": {
    "name": "ipython",
    "version": 3
   },
   "file_extension": ".py",
   "mimetype": "text/x-python",
   "name": "python",
   "nbconvert_exporter": "python",
   "pygments_lexer": "ipython3",
   "version": "3.8.19"
  }
 },
 "nbformat": 4,
 "nbformat_minor": 5
}
