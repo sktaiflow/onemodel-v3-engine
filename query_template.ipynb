{
 "cells": [
  {
   "cell_type": "code",
   "execution_count": 3,
   "id": "c32d03a6-b337-49e4-ab48-c1186bee6c3b",
   "metadata": {
    "execution": {
     "iopub.execute_input": "2024-05-24T05:16:37.042968Z",
     "iopub.status.busy": "2024-05-24T05:16:37.042442Z",
     "iopub.status.idle": "2024-05-24T05:16:37.046684Z",
     "shell.execute_reply": "2024-05-24T05:16:37.046039Z",
     "shell.execute_reply.started": "2024-05-24T05:16:37.042931Z"
    },
    "tags": []
   },
   "outputs": [],
   "source": [
    "from typing import Dict, List, Any, Union"
   ]
  },
  {
   "cell_type": "code",
   "execution_count": 6,
   "id": "06fc8c1e-10c3-41fa-9ed0-ca546bbaa308",
   "metadata": {
    "execution": {
     "iopub.execute_input": "2024-05-24T06:50:35.935664Z",
     "iopub.status.busy": "2024-05-24T06:50:35.934105Z",
     "iopub.status.idle": "2024-05-24T06:50:35.947088Z",
     "shell.execute_reply": "2024-05-24T06:50:35.946226Z",
     "shell.execute_reply.started": "2024-05-24T06:50:35.935560Z"
    },
    "tags": []
   },
   "outputs": [],
   "source": [
    "def get_base_query(source:List=[], must_query:List=[], should_query:List=[], filter_query:dict={}, W:dict={}, function_score_query:dict={}, functions:List=[]):\n",
    "\n",
    "    must_not_filter = filter_query.get('must_not', [])\n",
    "    must_filter = filter_query.get('must', [])\n",
    "    size = W.get(\"size\", 5)\n",
    "\n",
    "    base_query_dsl = {\n",
    "        \"_source\":source,\n",
    "        \"size\": size,\n",
    "        \"query\": {\n",
    "            \"bool\": {\n",
    "                        \"must\": [{\n",
    "                                    \"bool\":{\n",
    "                                        \"should\": must_query,\n",
    "                                        \"minimum_should_match\": 1\n",
    "                                    }\n",
    "                                }],\n",
    "                        \"should\": should_query,\n",
    "                        \"filter\":[{\n",
    "                                \"bool\":{\n",
    "                                    \"must_not\": must_not_filter,\n",
    "                                    \"must\": must_filter \n",
    "                                    }\n",
    "                        }]\n",
    "                    }\n",
    "            },\n",
    "        \"sort\" : [\"_score\"],\n",
    "    }\n",
    "    return base_query_dsl\n"
   ]
  },
  {
   "cell_type": "code",
   "execution_count": 7,
   "id": "36354fe5-f126-4766-b4cf-9a473b732f7b",
   "metadata": {
    "execution": {
     "iopub.execute_input": "2024-05-24T07:08:10.588912Z",
     "iopub.status.busy": "2024-05-24T07:08:10.588461Z",
     "iopub.status.idle": "2024-05-24T07:08:10.595341Z",
     "shell.execute_reply": "2024-05-24T07:08:10.594706Z",
     "shell.execute_reply.started": "2024-05-24T07:08:10.588873Z"
    },
    "tags": []
   },
   "outputs": [],
   "source": [
    "def get_base_script_score_query(source:List=[], must_query:List=[], should_query:List=[], filter_query:dict={}, W:dict={}, function_score_query:dict={}, functions:List=[]):\n",
    "\n",
    "    must_not_filter = filter_query.get('must_not', [])\n",
    "    must_filter = filter_query.get('must', [])\n",
    "    size = W.get(\"size\", 5)\n",
    "\n",
    "    base_query_dsl = {\n",
    "        \"_source\":source,\n",
    "        \"size\": size,\n",
    "        \"query\": {\n",
    "            \"bool\": {\n",
    "                        \"must\": [{\n",
    "                                    \"bool\":{\n",
    "                                        \"should\": must_query,\n",
    "                                        \"minimum_should_match\": 1\n",
    "                                    }\n",
    "                                }],\n",
    "                        \"should\": should_query,\n",
    "                        \"filter\":[{\n",
    "                                \"bool\":{\n",
    "                                    \"must_not\": must_not_filter,\n",
    "                                    \"must\": must_filter \n",
    "                                    }\n",
    "                        }]\n",
    "                    }\n",
    "            },\n",
    "        \"sort\" : [\"_score\"],\n",
    "    }\n",
    "    return base_query_dsl\n"
   ]
  },
  {
   "cell_type": "code",
   "execution_count": 8,
   "id": "46f614a8-e38b-435e-afe5-f98d6d496011",
   "metadata": {
    "execution": {
     "iopub.execute_input": "2024-05-24T07:08:22.188424Z",
     "iopub.status.busy": "2024-05-24T07:08:22.187953Z",
     "iopub.status.idle": "2024-05-24T07:08:22.194822Z",
     "shell.execute_reply": "2024-05-24T07:08:22.194191Z",
     "shell.execute_reply.started": "2024-05-24T07:08:22.188387Z"
    },
    "tags": []
   },
   "outputs": [],
   "source": [
    "def get_base_vector_search_query(source:List=[], must_query:List=[], should_query:List=[], filter_query:dict={}, W:dict={}, function_score_query:dict={}, functions:List=[]):\n",
    "\n",
    "    must_not_filter = filter_query.get('must_not', [])\n",
    "    must_filter = filter_query.get('must', [])\n",
    "    size = W.get(\"size\", 5)\n",
    "\n",
    "    base_query_dsl = {\n",
    "        \"_source\":source,\n",
    "        \"size\": size,\n",
    "        \"query\": {\n",
    "            \"bool\": {\n",
    "                        \"must\": [{\n",
    "                                    \"bool\":{\n",
    "                                        \"should\": must_query,\n",
    "                                        \"minimum_should_match\": 1\n",
    "                                    }\n",
    "                                }],\n",
    "                        \"should\": should_query,\n",
    "                        \"filter\":[{\n",
    "                                \"bool\":{\n",
    "                                    \"must_not\": must_not_filter,\n",
    "                                    \"must\": must_filter \n",
    "                                    }\n",
    "                        }]\n",
    "                    }\n",
    "            },\n",
    "        \"sort\" : [\"_score\"],\n",
    "    }\n",
    "    return base_query_dsl\n"
   ]
  },
  {
   "cell_type": "code",
   "execution_count": null,
   "id": "dae47eaa-2749-450c-8682-7b4760734523",
   "metadata": {},
   "outputs": [],
   "source": []
  }
 ],
 "metadata": {
  "kernelspec": {
   "display_name": "Python 3 (ipykernel)",
   "language": "python",
   "name": "python3"
  },
  "language_info": {
   "codemirror_mode": {
    "name": "ipython",
    "version": 3
   },
   "file_extension": ".py",
   "mimetype": "text/x-python",
   "name": "python",
   "nbconvert_exporter": "python",
   "pygments_lexer": "ipython3",
   "version": "3.8.19"
  }
 },
 "nbformat": 4,
 "nbformat_minor": 5
}
