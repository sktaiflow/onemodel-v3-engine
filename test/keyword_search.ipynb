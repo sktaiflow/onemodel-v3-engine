{
 "cells": [
  {
   "cell_type": "code",
   "execution_count": 1,
   "id": "7389611e-cc35-4f73-8238-a20bb757f564",
   "metadata": {
    "execution": {
     "iopub.execute_input": "2024-05-23T02:31:43.617388Z",
     "iopub.status.busy": "2024-05-23T02:31:43.616930Z",
     "iopub.status.idle": "2024-05-23T02:31:43.811956Z",
     "shell.execute_reply": "2024-05-23T02:31:43.811242Z",
     "shell.execute_reply.started": "2024-05-23T02:31:43.617356Z"
    },
    "tags": []
   },
   "outputs": [],
   "source": [
    "from opensearchpy import helpers, OpenSearch"
   ]
  },
  {
   "cell_type": "code",
   "execution_count": 2,
   "id": "2f63b5c2-aa16-4060-904f-073e7809a00e",
   "metadata": {
    "execution": {
     "iopub.execute_input": "2024-05-23T02:31:43.993223Z",
     "iopub.status.busy": "2024-05-23T02:31:43.992627Z",
     "iopub.status.idle": "2024-05-23T02:31:43.996636Z",
     "shell.execute_reply": "2024-05-23T02:31:43.996027Z",
     "shell.execute_reply.started": "2024-05-23T02:31:43.993185Z"
    },
    "tags": []
   },
   "outputs": [],
   "source": [
    "stg_vpce_opensearch = \"aos-ef399bbbead7-qs5jilysrng2oxiiayoxwtklki.ap-northeast-2.es.amazonaws.com\"\n",
    "PORT = 443"
   ]
  },
  {
   "cell_type": "code",
   "execution_count": 3,
   "id": "9a0efd6a-ee5c-4576-a202-4ad26f9327ea",
   "metadata": {
    "execution": {
     "iopub.execute_input": "2024-05-23T02:31:44.292193Z",
     "iopub.status.busy": "2024-05-23T02:31:44.291733Z",
     "iopub.status.idle": "2024-05-23T02:31:44.296601Z",
     "shell.execute_reply": "2024-05-23T02:31:44.295994Z",
     "shell.execute_reply.started": "2024-05-23T02:31:44.292160Z"
    },
    "tags": []
   },
   "outputs": [],
   "source": [
    "client = OpenSearch(\n",
    "    hosts = [{\"host\": stg_vpce_opensearch, \"port\": PORT}],\n",
    "    http_compress=True,\n",
    "    use_ssl=True,\n",
    "    verify_certs=True,\n",
    "    timeout=2,\n",
    "    pool_maxsize=40,\n",
    "    http_auth=(\"TheMasterUser\", \"Developer_rec_stg1!\"),\n",
    ")"
   ]
  },
  {
   "cell_type": "code",
   "execution_count": 4,
   "id": "782319e1-ee92-4d74-836d-c4052f804e77",
   "metadata": {
    "execution": {
     "iopub.execute_input": "2024-05-23T02:31:44.469789Z",
     "iopub.status.busy": "2024-05-23T02:31:44.469443Z",
     "iopub.status.idle": "2024-05-23T02:31:44.472784Z",
     "shell.execute_reply": "2024-05-23T02:31:44.472196Z",
     "shell.execute_reply.started": "2024-05-23T02:31:44.469759Z"
    },
    "tags": []
   },
   "outputs": [],
   "source": [
    "index_name = 'onemodel_v3_inital_test_20240512'"
   ]
  },
  {
   "cell_type": "code",
   "execution_count": 5,
   "id": "0c15eb45-aad0-4711-9ca2-c87e696ec892",
   "metadata": {
    "execution": {
     "iopub.execute_input": "2024-05-23T02:31:45.203304Z",
     "iopub.status.busy": "2024-05-23T02:31:45.202838Z",
     "iopub.status.idle": "2024-05-23T02:31:45.206713Z",
     "shell.execute_reply": "2024-05-23T02:31:45.206109Z",
     "shell.execute_reply.started": "2024-05-23T02:31:45.203272Z"
    },
    "tags": []
   },
   "outputs": [],
   "source": [
    "index_doc = {\"index\": index_name}"
   ]
  },
  {
   "cell_type": "code",
   "execution_count": 7,
   "id": "54fbfdb8-f00a-4f1d-bb07-bb2027355312",
   "metadata": {
    "execution": {
     "iopub.execute_input": "2024-05-23T02:33:05.128329Z",
     "iopub.status.busy": "2024-05-23T02:33:05.127859Z",
     "iopub.status.idle": "2024-05-23T02:33:05.132091Z",
     "shell.execute_reply": "2024-05-23T02:33:05.131210Z",
     "shell.execute_reply.started": "2024-05-23T02:33:05.128295Z"
    },
    "tags": []
   },
   "outputs": [],
   "source": [
    "query = {\n",
    "  'size': 5,\n",
    "    \"query\": {\n",
    "            \"match_all\": {}\n",
    "    }\n",
    "  }"
   ]
  },
  {
   "cell_type": "code",
   "execution_count": 8,
   "id": "6376dd71-cfc1-4277-b082-08614ab24f7e",
   "metadata": {
    "execution": {
     "iopub.execute_input": "2024-05-23T02:33:13.664619Z",
     "iopub.status.busy": "2024-05-23T02:33:13.664145Z",
     "iopub.status.idle": "2024-05-23T02:33:16.235809Z",
     "shell.execute_reply": "2024-05-23T02:33:16.235068Z",
     "shell.execute_reply.started": "2024-05-23T02:33:13.664585Z"
    },
    "tags": []
   },
   "outputs": [],
   "source": [
    "response = client.search(\n",
    "    body = query,\n",
    "    index = index_name\n",
    ")"
   ]
  },
  {
   "cell_type": "code",
   "execution_count": 11,
   "id": "94898acb-abbe-4ce6-872f-f7005202bc89",
   "metadata": {
    "execution": {
     "iopub.execute_input": "2024-05-23T02:33:53.212572Z",
     "iopub.status.busy": "2024-05-23T02:33:53.212112Z",
     "iopub.status.idle": "2024-05-23T02:33:53.216184Z",
     "shell.execute_reply": "2024-05-23T02:33:53.215445Z",
     "shell.execute_reply.started": "2024-05-23T02:33:53.212536Z"
    },
    "tags": []
   },
   "outputs": [],
   "source": [
    "#response"
   ]
  },
  {
   "cell_type": "code",
   "execution_count": null,
   "id": "c108c254-7af5-4d75-b7a4-a400706cecb7",
   "metadata": {},
   "outputs": [],
   "source": [
    "s"
   ]
  }
 ],
 "metadata": {
  "kernelspec": {
   "display_name": "Python 3 (ipykernel)",
   "language": "python",
   "name": "python3"
  },
  "language_info": {
   "codemirror_mode": {
    "name": "ipython",
    "version": 3
   },
   "file_extension": ".py",
   "mimetype": "text/x-python",
   "name": "python",
   "nbconvert_exporter": "python",
   "pygments_lexer": "ipython3",
   "version": "3.8.19"
  }
 },
 "nbformat": 4,
 "nbformat_minor": 5
}
