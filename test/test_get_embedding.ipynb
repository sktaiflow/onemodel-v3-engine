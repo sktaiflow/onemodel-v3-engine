{
 "cells": [
  {
   "cell_type": "code",
   "execution_count": 11,
   "id": "76823b00-aa56-4965-9342-084967e958e9",
   "metadata": {
    "execution": {
     "iopub.execute_input": "2024-05-22T05:09:21.951307Z",
     "iopub.status.busy": "2024-05-22T05:09:21.950753Z",
     "iopub.status.idle": "2024-05-22T05:09:22.024660Z",
     "shell.execute_reply": "2024-05-22T05:09:22.023930Z",
     "shell.execute_reply.started": "2024-05-22T05:09:21.951264Z"
    },
    "tags": []
   },
   "outputs": [],
   "source": [
    "from skt.ye import (\n",
    "    get_hdfs_conn,\n",
    "    get_spark,\n",
    "    hive_execute,\n",
    "    hive_to_pandas,\n",
    "    pandas_to_parquet,\n",
    "    slack_send,\n",
    "    get_secrets\n",
    ")"
   ]
  },
  {
   "cell_type": "code",
   "execution_count": 12,
   "id": "e830e76b-12aa-4f46-b7f8-c8f89ae8e4e7",
   "metadata": {
    "execution": {
     "iopub.execute_input": "2024-05-22T05:09:22.138400Z",
     "iopub.status.busy": "2024-05-22T05:09:22.137933Z",
     "iopub.status.idle": "2024-05-22T05:09:23.509838Z",
     "shell.execute_reply": "2024-05-22T05:09:23.508808Z",
     "shell.execute_reply.started": "2024-05-22T05:09:22.138364Z"
    },
    "tags": []
   },
   "outputs": [],
   "source": [
    "from skt.gcp import (\n",
    "    PROJECT_ID,\n",
    "    bq_insert_overwrite,\n",
    "    bq_to_df,\n",
    "    bq_to_pandas,\n",
    "    get_bigquery_client,\n",
    "    get_max_part,\n",
    "    load_query_result_to_table,\n",
    "    pandas_to_bq,\n",
    "    pandas_to_bq_table,\n",
    "    load_bigquery_ipython_magic,\n",
    "    get_bigquery_client\n",
    ")"
   ]
  },
  {
   "cell_type": "code",
   "execution_count": 13,
   "id": "180a2f88-190a-4619-8577-2cc9ec6a1390",
   "metadata": {
    "execution": {
     "iopub.execute_input": "2024-05-22T05:09:23.512603Z",
     "iopub.status.busy": "2024-05-22T05:09:23.511422Z",
     "iopub.status.idle": "2024-05-22T05:09:23.769066Z",
     "shell.execute_reply": "2024-05-22T05:09:23.768365Z",
     "shell.execute_reply.started": "2024-05-22T05:09:23.512555Z"
    }
   },
   "outputs": [],
   "source": [
    "import pyspark.sql.functions as F"
   ]
  },
  {
   "cell_type": "code",
   "execution_count": 14,
   "id": "94408edf-5a97-4255-b036-634c9a2e39e1",
   "metadata": {
    "execution": {
     "iopub.execute_input": "2024-05-22T05:09:23.770757Z",
     "iopub.status.busy": "2024-05-22T05:09:23.770042Z",
     "iopub.status.idle": "2024-05-22T05:09:23.773570Z",
     "shell.execute_reply": "2024-05-22T05:09:23.772962Z",
     "shell.execute_reply.started": "2024-05-22T05:09:23.770725Z"
    },
    "tags": []
   },
   "outputs": [],
   "source": [
    "import os"
   ]
  },
  {
   "cell_type": "code",
   "execution_count": 15,
   "id": "e6549fdd-fbea-4c21-a4fd-1134c030d461",
   "metadata": {
    "execution": {
     "iopub.execute_input": "2024-05-22T05:09:23.775278Z",
     "iopub.status.busy": "2024-05-22T05:09:23.774795Z",
     "iopub.status.idle": "2024-05-22T05:09:23.783384Z",
     "shell.execute_reply": "2024-05-22T05:09:23.782789Z",
     "shell.execute_reply.started": "2024-05-22T05:09:23.775247Z"
    },
    "tags": []
   },
   "outputs": [],
   "source": [
    "#!pip install opensearch-py"
   ]
  },
  {
   "cell_type": "code",
   "execution_count": 38,
   "id": "33b62016-df1a-4886-afd9-63a50e91d80f",
   "metadata": {
    "execution": {
     "iopub.execute_input": "2024-05-22T05:38:28.080575Z",
     "iopub.status.busy": "2024-05-22T05:38:28.080113Z",
     "iopub.status.idle": "2024-05-22T05:38:28.086409Z",
     "shell.execute_reply": "2024-05-22T05:38:28.085753Z",
     "shell.execute_reply.started": "2024-05-22T05:38:28.080540Z"
    },
    "tags": []
   },
   "outputs": [],
   "source": [
    "mappings = {\n",
    "        \"properties\": {\n",
    "            \"svc_mgmt_num\": {\"type\": \"keyword\"},\n",
    "            \"luna_id\": {\"type\": \"keyword\"},\n",
    "            \"age\": {\"type\": \"short\"},\n",
    "            \"gender\": {\"type\": \"short\"},\n",
    "            \"mno_profiles\": {\"type\": \"text\", \"analyzer\": \"standard\", \"search_analyzer\": \"standard\"},\n",
    "            \"adot_profiles\": {\"type\": \"text\", \"analyzer\": \"standard\", \"search_analyzer\": \"standard\"},\n",
    "            \"behavior_profiles\": {\"type\": \"text\", \"analyzer\": \"standard\", \"search_analyzer\": \"standard\"},\n",
    "            \"created_at\": {\"type\": \"date\", \"format\": \"yyyy-MM-dd HH:mm:ss\"},\n",
    "            \"is_adot\": {\"type\": \"boolean\"},\n",
    "            \"user_embedding\": {\n",
    "                \"type\": \"knn_vector\",\n",
    "                \"dimension\": 2048,\n",
    "                \"method\": {\n",
    "                    \"name\": \"hnsw\",\n",
    "                    \"space_type\": \"l2\",\n",
    "                    \"engine\": \"nmslib\",\n",
    "                    \"parameters\": {\"ef_construction\": 16, \"m\": 16},\n",
    "                },\n",
    "            },\n",
    "        }\n",
    "    }"
   ]
  },
  {
   "cell_type": "code",
   "execution_count": 44,
   "id": "a577e0b0-07a1-4ff4-a1c5-54e8e8a34f38",
   "metadata": {
    "execution": {
     "iopub.execute_input": "2024-05-22T06:01:29.227203Z",
     "iopub.status.busy": "2024-05-22T06:01:29.226557Z",
     "iopub.status.idle": "2024-05-22T06:01:29.232721Z",
     "shell.execute_reply": "2024-05-22T06:01:29.231848Z",
     "shell.execute_reply.started": "2024-05-22T06:01:29.227149Z"
    },
    "tags": []
   },
   "outputs": [],
   "source": [
    "settings = {\n",
    "    \"index\": {\n",
    "        \"number_of_shards\": 4,\n",
    "        \"number_of_replicas\": 1,\n",
    "        \"knn\": True,\n",
    "        \"analysis\":{\n",
    "            \"analyzer\": {\n",
    "                \"default\": {\n",
    "                    \"type\": \"standard\"\n",
    "                }\n",
    "            }\n",
    "        }        \n",
    "    }\n",
    "}"
   ]
  },
  {
   "cell_type": "code",
   "execution_count": 45,
   "id": "700f2437-c57a-4e24-9b46-144a35f4170e",
   "metadata": {
    "execution": {
     "iopub.execute_input": "2024-05-22T06:01:29.341345Z",
     "iopub.status.busy": "2024-05-22T06:01:29.340892Z",
     "iopub.status.idle": "2024-05-22T06:01:29.344692Z",
     "shell.execute_reply": "2024-05-22T06:01:29.344070Z",
     "shell.execute_reply.started": "2024-05-22T06:01:29.341311Z"
    },
    "tags": []
   },
   "outputs": [],
   "source": [
    "index_body = {\n",
    "    \"settings\": settings,\n",
    "    \"mappings\": mappings\n",
    "}"
   ]
  },
  {
   "cell_type": "code",
   "execution_count": 75,
   "id": "8e5b98c0-55da-45da-aff4-2beb0963a35c",
   "metadata": {
    "execution": {
     "iopub.execute_input": "2024-05-22T06:17:05.937690Z",
     "iopub.status.busy": "2024-05-22T06:17:05.937282Z",
     "iopub.status.idle": "2024-05-22T06:17:05.941368Z",
     "shell.execute_reply": "2024-05-22T06:17:05.940698Z",
     "shell.execute_reply.started": "2024-05-22T06:17:05.937658Z"
    },
    "tags": []
   },
   "outputs": [],
   "source": [
    "from pyspark import version as spark_version\n",
    "from pyspark.sql import SparkSession\n",
    "\n",
    "is_spark_3 = spark_version.__version__ >= \"3.0.0\""
   ]
  },
  {
   "cell_type": "code",
   "execution_count": 76,
   "id": "da9a5062-b459-4ad0-8208-dbd170aa4c23",
   "metadata": {
    "execution": {
     "iopub.execute_input": "2024-05-22T06:17:06.311602Z",
     "iopub.status.busy": "2024-05-22T06:17:06.311066Z",
     "iopub.status.idle": "2024-05-22T06:17:06.319949Z",
     "shell.execute_reply": "2024-05-22T06:17:06.319328Z",
     "shell.execute_reply.started": "2024-05-22T06:17:06.311570Z"
    },
    "tags": []
   },
   "outputs": [],
   "source": [
    "def get_custom_spark(queue:str=None, jars:tuple=None, app_name:str=None, is_spark_3:bool=True, spark_config=None):\n",
    "    import tempfile\n",
    "    import uuid\n",
    "    \n",
    "    if not queue:\n",
    "        if \"JUPYTERHUB_USER\" in os.environ:\n",
    "            queue = \"dmig_eda\"\n",
    "        else:\n",
    "            queue = \"airflow_job\"\n",
    "            \n",
    "    if app_name is None:\n",
    "        tmp_uuid = str(uuid.uuid4())\n",
    "        app_name = f\"skt-{os.environ.get('USER', 'default')}-{tmp_uuid}\"\n",
    "        \n",
    "    bigquery_jars = (\n",
    "        \"hdfs:///jars/spark-bigquery-with-dependencies_2.12-0.24.2.jar\"\n",
    "        if is_spark_3\n",
    "        else \"hdfs:///jars/spark-bigquery-with-dependencies_2.11-0.17.3.jar\"\n",
    "    )\n",
    "    \n",
    "    spark_jars = \",\".join([bigquery_jars, jars]) if jars else bigquery_jars\n",
    "    arrow_enabled = \"spark.sql.execution.arrow.pyspark.enabled\" if is_spark_3 else \"spark.sql.execution.arrow.enabled\"\n",
    "    \n",
    "    arrow_pre_ipc_format = \"0\" if is_spark_3 else \"1\"\n",
    "    os.environ[\"ARROW_PRE_0_15_IPC_FORMAT\"] = arrow_pre_ipc_format\n",
    "    if spark_config is None:\n",
    "        spark = (\n",
    "            SparkSession.builder.config(\"spark.app.name\", app_name)\n",
    "            .config(\"spark.driver.memory\", \"30g\")\n",
    "            .config(\"spark.executor.memory\", \"30g\")\n",
    "            .config(\"spark.executor.instances\", \"10\")\n",
    "            .config(\"spark.driver.maxResultSize\", \"12g\")\n",
    "            .config(\"spark.rpc.message.maxSize\", \"1024\")\n",
    "            .config(\"spark.yarn.queue\", queue)\n",
    "            .config(\"spark.ui.enabled\", \"false\")\n",
    "            .config(\"spark.port.maxRetries\", \"128\")\n",
    "            .config(\"spark.pyspark.driver.python\", \"/usr/bin/python3.8\") \n",
    "            .config(\"spark.pyspark.python\", \"/usr/bin/python3.8\") \n",
    "            .config(\"spark.executorEnv.ARROW_PRE_0_15_IPC_FORMAT\", arrow_pre_ipc_format)\n",
    "            .config(\"spark.yarn.appMasterEnv.ARROW_PRE_0_15_IPC_FORMAT\", arrow_pre_ipc_format)\n",
    "            .config(\n",
    "                \"spark.jars\",\n",
    "                spark_jars,\n",
    "            )\n",
    "            .enableHiveSupport()\n",
    "            .getOrCreate()\n",
    "        )\n",
    "    else:\n",
    "        raise NotImplementedError('yet implemented')\n",
    "        \n",
    "    spark.conf.set(arrow_enabled, \"true\")\n",
    "    return spark\n",
    "    "
   ]
  },
  {
   "cell_type": "code",
   "execution_count": 77,
   "id": "fb4328ce-d124-4633-95fe-9be573f1417a",
   "metadata": {
    "execution": {
     "iopub.execute_input": "2024-05-22T06:17:06.688699Z",
     "iopub.status.busy": "2024-05-22T06:17:06.688303Z",
     "iopub.status.idle": "2024-05-22T06:17:06.696080Z",
     "shell.execute_reply": "2024-05-22T06:17:06.695464Z",
     "shell.execute_reply.started": "2024-05-22T06:17:06.688668Z"
    },
    "tags": []
   },
   "outputs": [],
   "source": [
    "spark = get_custom_spark(app_name='test_jh', is_spark_3 = is_spark_3)"
   ]
  },
  {
   "cell_type": "code",
   "execution_count": 43,
   "id": "a3b78c2d-d8fa-4098-b56e-74d406f1d098",
   "metadata": {
    "execution": {
     "iopub.execute_input": "2024-05-22T05:39:07.704227Z",
     "iopub.status.busy": "2024-05-22T05:39:07.703794Z",
     "iopub.status.idle": "2024-05-22T05:39:07.710864Z",
     "shell.execute_reply": "2024-05-22T05:39:07.710175Z",
     "shell.execute_reply.started": "2024-05-22T05:39:07.704191Z"
    },
    "tags": []
   },
   "outputs": [],
   "source": [
    "from py4j.java_gateway import java_import\n",
    "sc = spark.sparkContext\n",
    "java_import(sc._gateway.jvm, \"org.apache.hadoop.fs.Path\")\n",
    "java_import(sc._gateway.jvm, \"org.apache.hadoop.fs.FileSystem\")\n",
    "fs = sc._gateway.jvm.FileSystem.get(sc._jsc.hadoopConfiguration())"
   ]
  },
  {
   "cell_type": "code",
   "execution_count": 46,
   "id": "f0682b46-9edc-4b98-b335-c26fb567b786",
   "metadata": {
    "execution": {
     "iopub.execute_input": "2024-05-22T06:01:49.147157Z",
     "iopub.status.busy": "2024-05-22T06:01:49.146673Z",
     "iopub.status.idle": "2024-05-22T06:01:49.150573Z",
     "shell.execute_reply": "2024-05-22T06:01:49.149952Z",
     "shell.execute_reply.started": "2024-05-22T06:01:49.147112Z"
    },
    "tags": []
   },
   "outputs": [],
   "source": [
    "hdfs_path = \"/data/temp/one_model_2024-05-11\""
   ]
  },
  {
   "cell_type": "code",
   "execution_count": 47,
   "id": "b49a5541-332b-4740-a8ad-b35355840ca3",
   "metadata": {
    "execution": {
     "iopub.execute_input": "2024-05-22T06:01:50.589588Z",
     "iopub.status.busy": "2024-05-22T06:01:50.588914Z",
     "iopub.status.idle": "2024-05-22T06:01:50.595502Z",
     "shell.execute_reply": "2024-05-22T06:01:50.594872Z",
     "shell.execute_reply.started": "2024-05-22T06:01:50.589550Z"
    },
    "tags": []
   },
   "outputs": [],
   "source": [
    "save_hdfs_path = sc._gateway.jvm.Path(hdfs_path)"
   ]
  },
  {
   "cell_type": "code",
   "execution_count": 48,
   "id": "78025712-a937-4eb8-91ef-60369c6a4208",
   "metadata": {
    "execution": {
     "iopub.execute_input": "2024-05-22T06:01:51.345199Z",
     "iopub.status.busy": "2024-05-22T06:01:51.344739Z",
     "iopub.status.idle": "2024-05-22T06:01:51.378843Z",
     "shell.execute_reply": "2024-05-22T06:01:51.378009Z",
     "shell.execute_reply.started": "2024-05-22T06:01:51.345165Z"
    },
    "tags": []
   },
   "outputs": [],
   "source": [
    "status = fs.listStatus(save_hdfs_path)\n"
   ]
  },
  {
   "cell_type": "code",
   "execution_count": 49,
   "id": "52300fdf-771e-437d-8f99-3c5a64d9e479",
   "metadata": {
    "execution": {
     "iopub.execute_input": "2024-05-22T06:01:52.359289Z",
     "iopub.status.busy": "2024-05-22T06:01:52.358825Z",
     "iopub.status.idle": "2024-05-22T06:01:52.428911Z",
     "shell.execute_reply": "2024-05-22T06:01:52.428102Z",
     "shell.execute_reply.started": "2024-05-22T06:01:52.359254Z"
    },
    "tags": []
   },
   "outputs": [],
   "source": [
    "file_list = []\n",
    "for i, file_status in enumerate(status):\n",
    "    file_name = file_status.getPath().getName()\n",
    "    file_path = os.path.join(hdfs_path, file_name)\n",
    "    file_list.append(file_path)"
   ]
  },
  {
   "cell_type": "code",
   "execution_count": 50,
   "id": "212160ee-e673-46c9-81f8-447d72b801ed",
   "metadata": {
    "execution": {
     "iopub.execute_input": "2024-05-22T06:01:52.666106Z",
     "iopub.status.busy": "2024-05-22T06:01:52.665334Z",
     "iopub.status.idle": "2024-05-22T06:01:52.673342Z",
     "shell.execute_reply": "2024-05-22T06:01:52.672737Z",
     "shell.execute_reply.started": "2024-05-22T06:01:52.666043Z"
    },
    "tags": []
   },
   "outputs": [
    {
     "data": {
      "text/plain": [
       "'/data/temp/one_model_2024-05-11/input_data'"
      ]
     },
     "execution_count": 50,
     "metadata": {},
     "output_type": "execute_result"
    }
   ],
   "source": [
    "file_list[0]"
   ]
  },
  {
   "cell_type": "code",
   "execution_count": 57,
   "id": "616c27d8-a46c-4d5d-b5ac-063def7f19d7",
   "metadata": {
    "execution": {
     "iopub.execute_input": "2024-05-22T06:09:37.167496Z",
     "iopub.status.busy": "2024-05-22T06:09:37.166868Z",
     "iopub.status.idle": "2024-05-22T06:09:37.171444Z",
     "shell.execute_reply": "2024-05-22T06:09:37.170682Z",
     "shell.execute_reply.started": "2024-05-22T06:09:37.167435Z"
    },
    "tags": []
   },
   "outputs": [],
   "source": [
    "temp_file = '/data/temp/one_model_2024-05-11/one_model_v3_result_adot_20240511_0_emb.parquet.gzip'"
   ]
  },
  {
   "cell_type": "code",
   "execution_count": 94,
   "id": "a60096f3-106b-4b13-9f6e-e1cc65653c2c",
   "metadata": {
    "execution": {
     "iopub.execute_input": "2024-05-22T06:36:40.744527Z",
     "iopub.status.busy": "2024-05-22T06:36:40.744013Z",
     "iopub.status.idle": "2024-05-22T06:36:41.851241Z",
     "shell.execute_reply": "2024-05-22T06:36:41.850519Z",
     "shell.execute_reply.started": "2024-05-22T06:36:40.744492Z"
    },
    "tags": []
   },
   "outputs": [
    {
     "name": "stderr",
     "output_type": "stream",
     "text": [
      "                                                                                \r"
     ]
    }
   ],
   "source": [
    "sample_d = spark.read.parquet(temp_file)"
   ]
  },
  {
   "cell_type": "code",
   "execution_count": 60,
   "id": "98ed727a-88ad-4be3-8187-ad9e795791fc",
   "metadata": {
    "execution": {
     "iopub.execute_input": "2024-05-22T06:09:52.671397Z",
     "iopub.status.busy": "2024-05-22T06:09:52.670909Z",
     "iopub.status.idle": "2024-05-22T06:09:58.153383Z",
     "shell.execute_reply": "2024-05-22T06:09:58.152701Z",
     "shell.execute_reply.started": "2024-05-22T06:09:52.671365Z"
    },
    "tags": []
   },
   "outputs": [
    {
     "name": "stderr",
     "output_type": "stream",
     "text": [
      "                                                                                \r"
     ]
    },
    {
     "data": {
      "text/plain": [
       "13132"
      ]
     },
     "execution_count": 60,
     "metadata": {},
     "output_type": "execute_result"
    }
   ],
   "source": [
    "sample_d.count()"
   ]
  },
  {
   "cell_type": "code",
   "execution_count": 107,
   "id": "b9b94208-d039-424d-8922-7fd6736058b9",
   "metadata": {
    "execution": {
     "iopub.execute_input": "2024-05-22T09:43:01.222525Z",
     "iopub.status.busy": "2024-05-22T09:43:01.222122Z",
     "iopub.status.idle": "2024-05-22T09:43:01.234150Z",
     "shell.execute_reply": "2024-05-22T09:43:01.233503Z",
     "shell.execute_reply.started": "2024-05-22T09:43:01.222494Z"
    },
    "tags": []
   },
   "outputs": [
    {
     "name": "stdout",
     "output_type": "stream",
     "text": [
      "root\n",
      " |-- svc_mgmt_num: string (nullable = true)\n",
      " |-- mno_profile: string (nullable = true)\n",
      " |-- adot_profile: string (nullable = true)\n",
      " |-- behavor_profile: string (nullable = true)\n",
      " |-- user_vector: array (nullable = true)\n",
      " |    |-- element: float (containsNull = true)\n",
      " |-- age: integer (nullable = false)\n",
      " |-- gender: string (nullable = false)\n",
      "\n"
     ]
    },
    {
     "name": "stderr",
     "output_type": "stream",
     "text": [
      "[Stage 57:==============>                                        (53 + 8) / 200]\r"
     ]
    }
   ],
   "source": [
    "sample_d.printSchema()"
   ]
  },
  {
   "cell_type": "code",
   "execution_count": 110,
   "id": "2202de0a-eda8-466c-abe1-0355475f0758",
   "metadata": {
    "execution": {
     "iopub.execute_input": "2024-05-22T09:53:26.666650Z",
     "iopub.status.busy": "2024-05-22T09:53:26.666246Z",
     "iopub.status.idle": "2024-05-22T09:53:26.670547Z",
     "shell.execute_reply": "2024-05-22T09:53:26.669916Z",
     "shell.execute_reply.started": "2024-05-22T09:53:26.666619Z"
    },
    "tags": []
   },
   "outputs": [
    {
     "name": "stderr",
     "output_type": "stream",
     "text": [
      "Exception in thread \"serve-DataFrame\" java.net.SocketTimeoutException: Accept timed out\n",
      "\tat java.net.PlainSocketImpl.socketAccept(Native Method)\n",
      "\tat java.net.AbstractPlainSocketImpl.accept(AbstractPlainSocketImpl.java:409)\n",
      "\tat java.net.ServerSocket.implAccept(ServerSocket.java:560)\n",
      "\tat java.net.ServerSocket.accept(ServerSocket.java:528)\n",
      "\tat org.apache.spark.security.SocketAuthServer$$anon$1.run(SocketAuthServer.scala:64)\n",
      "Exception in thread \"serve-DataFrame\" java.net.SocketTimeoutException: Accept timed out\n",
      "\tat java.net.PlainSocketImpl.socketAccept(Native Method)\n",
      "\tat java.net.AbstractPlainSocketImpl.accept(AbstractPlainSocketImpl.java:409)\n",
      "\tat java.net.ServerSocket.implAccept(ServerSocket.java:560)\n",
      "\tat java.net.ServerSocket.accept(ServerSocket.java:528)\n",
      "\tat org.apache.spark.security.SocketAuthServer$$anon$1.run(SocketAuthServer.scala:64)\n"
     ]
    }
   ],
   "source": [
    "query = f\"\"\"\n",
    "SELECT  A.svc_mgmt_num, \n",
    "        A.item, \n",
    "        A.mno_profile_feature, \n",
    "        A.adot_profile_feature,\n",
    "        B.luna_id\n",
    "        CASE \n",
    "            WHEN B.luna_id is null Then 'N'\n",
    "            ELSE 'Y'\n",
    "        END AS is_aodt\n",
    "FROM adot_reco.onemodelV3_train_input_prd\n",
    "WHERE dt = (select max(dt) from adot_reco.onemodelV3_train_input_prd) AS A\n",
    "\n",
    "LEFT JOIN(\n",
    "\n",
    "            SELECT\n",
    "              *\n",
    "            FROM x1112904.adot_agr_meta_daily\n",
    "            WHERE dt = (SELECT max(dt) FROM x1112904.adot_agr_meta_daily)\n",
    "            AND status IS NULL\n",
    "            \n",
    "            UNION ALL\n",
    "\n",
    "            SELECT\n",
    "              *\n",
    "                    \n",
    "            FROM x1112904.adot_agr_meta_daily\n",
    "            WHERE dt = (SELECT max(dt) FROM x1112904.adot_agr_meta_daily)\n",
    "            AND status = 'NORMAL'\n",
    ") AS B\n",
    "\n",
    "\"\"\""
   ]
  },
  {
   "cell_type": "code",
   "execution_count": 80,
   "id": "00d71815-23d2-46cc-9e90-d4210ca22a5d",
   "metadata": {
    "execution": {
     "iopub.execute_input": "2024-05-22T06:18:52.499819Z",
     "iopub.status.busy": "2024-05-22T06:18:52.499348Z",
     "iopub.status.idle": "2024-05-22T06:20:35.063801Z",
     "shell.execute_reply": "2024-05-22T06:20:35.063014Z",
     "shell.execute_reply.started": "2024-05-22T06:18:52.499786Z"
    },
    "tags": []
   },
   "outputs": [
    {
     "name": "stderr",
     "output_type": "stream",
     "text": [
      "24/05/22 15:20:27 WARN SQLConf: The SQL config 'spark.sql.execution.arrow.enabled' has been deprecated in Spark v3.0 and may be removed in the future. Use 'spark.sql.execution.arrow.pyspark.enabled' instead of it.\n"
     ]
    }
   ],
   "source": [
    "input_df = bq_to_df(query=query, spark_session=spark)"
   ]
  },
  {
   "cell_type": "code",
   "execution_count": null,
   "id": "601b384f-c8de-4be0-ad86-65a6479dc1f4",
   "metadata": {
    "execution": {
     "iopub.status.busy": "2024-05-22T06:10:55.072916Z",
     "iopub.status.idle": "2024-05-22T06:10:55.073257Z",
     "shell.execute_reply": "2024-05-22T06:10:55.073111Z",
     "shell.execute_reply.started": "2024-05-22T06:10:55.073093Z"
    },
    "tags": []
   },
   "outputs": [],
   "source": [
    "#input_df.printSchema()"
   ]
  },
  {
   "cell_type": "code",
   "execution_count": 95,
   "id": "61738b51-12e7-4706-9b1b-bf2b94feddff",
   "metadata": {
    "execution": {
     "iopub.execute_input": "2024-05-22T06:36:46.195589Z",
     "iopub.status.busy": "2024-05-22T06:36:46.195101Z",
     "iopub.status.idle": "2024-05-22T06:36:46.226258Z",
     "shell.execute_reply": "2024-05-22T06:36:46.225487Z",
     "shell.execute_reply.started": "2024-05-22T06:36:46.195554Z"
    },
    "tags": []
   },
   "outputs": [],
   "source": [
    "sample_d = sample_d.join(input_df, sample_d.svc_mgmt_num == input_df.svc_mgmt_num, how='left')\\\n",
    "        .select(sample_d['*'], input_df['item'], input_df['mno_profile_feature'], input_df['adot_profile_feature'])"
   ]
  },
  {
   "cell_type": "code",
   "execution_count": 96,
   "id": "0a65b675-6e1c-4094-83e3-7bde0271eb26",
   "metadata": {
    "execution": {
     "iopub.execute_input": "2024-05-22T06:36:49.123678Z",
     "iopub.status.busy": "2024-05-22T06:36:49.122254Z",
     "iopub.status.idle": "2024-05-22T06:36:49.148511Z",
     "shell.execute_reply": "2024-05-22T06:36:49.147534Z",
     "shell.execute_reply.started": "2024-05-22T06:36:49.123595Z"
    },
    "tags": []
   },
   "outputs": [],
   "source": [
    "sample_d = sample_d.select(\n",
    "                F.col('svc_mgmt_num'),\n",
    "                F.col('mno_profile_feature').alias('mno_profile'),\n",
    "                F.col('adot_profile_feature').alias('adot_profile'),\n",
    "                F.col('item').alias('behavor_profile'),\n",
    "                F.col('user_vector')\n",
    ")"
   ]
  },
  {
   "cell_type": "code",
   "execution_count": 97,
   "id": "3f080070-0683-4370-a05a-494f623b189c",
   "metadata": {
    "execution": {
     "iopub.execute_input": "2024-05-22T06:36:51.814356Z",
     "iopub.status.busy": "2024-05-22T06:36:51.813465Z",
     "iopub.status.idle": "2024-05-22T06:36:51.820850Z",
     "shell.execute_reply": "2024-05-22T06:36:51.819586Z",
     "shell.execute_reply.started": "2024-05-22T06:36:51.814291Z"
    },
    "tags": []
   },
   "outputs": [],
   "source": [
    "def convert_to_float_array(array):\n",
    "    return [float(x) for x in array]"
   ]
  },
  {
   "cell_type": "code",
   "execution_count": 98,
   "id": "abff6754-6e9f-4350-915d-6c0295176b32",
   "metadata": {
    "execution": {
     "iopub.execute_input": "2024-05-22T06:36:51.933906Z",
     "iopub.status.busy": "2024-05-22T06:36:51.933157Z",
     "iopub.status.idle": "2024-05-22T06:36:51.937272Z",
     "shell.execute_reply": "2024-05-22T06:36:51.936642Z",
     "shell.execute_reply.started": "2024-05-22T06:36:51.933873Z"
    },
    "tags": []
   },
   "outputs": [],
   "source": [
    "from pyspark.sql.types import ArrayType, FloatType\n",
    "convert_to_float_array_udf = F.udf(convert_to_float_array, ArrayType(FloatType()))"
   ]
  },
  {
   "cell_type": "code",
   "execution_count": 99,
   "id": "6bacd9d7-3b3f-4e73-b4be-3b394d0d62ee",
   "metadata": {
    "execution": {
     "iopub.execute_input": "2024-05-22T06:36:53.358988Z",
     "iopub.status.busy": "2024-05-22T06:36:53.358513Z",
     "iopub.status.idle": "2024-05-22T06:36:53.439520Z",
     "shell.execute_reply": "2024-05-22T06:36:53.438786Z",
     "shell.execute_reply.started": "2024-05-22T06:36:53.358956Z"
    },
    "tags": []
   },
   "outputs": [],
   "source": [
    "sample_d = sample_d.withColumn('age', F.lit(31))\\\n",
    "                    .withColumn('gender', F.lit('F'))\\\n",
    "                    .withColumn('user_vector', convert_to_float_array_udf(F.col('user_vector')))"
   ]
  },
  {
   "cell_type": "code",
   "execution_count": 102,
   "id": "fbde362c-c801-445f-a000-cebfd475ab08",
   "metadata": {
    "execution": {
     "iopub.execute_input": "2024-05-22T06:51:38.579486Z",
     "iopub.status.busy": "2024-05-22T06:51:38.578989Z",
     "iopub.status.idle": "2024-05-22T06:51:38.582681Z",
     "shell.execute_reply": "2024-05-22T06:51:38.582009Z",
     "shell.execute_reply.started": "2024-05-22T06:51:38.579452Z"
    },
    "tags": []
   },
   "outputs": [],
   "source": [
    "#sample_d.show(1,False)"
   ]
  },
  {
   "cell_type": "code",
   "execution_count": 103,
   "id": "61882623-dd8f-4505-86d8-9dd68cef45f1",
   "metadata": {
    "execution": {
     "iopub.execute_input": "2024-05-22T06:57:43.226061Z",
     "iopub.status.busy": "2024-05-22T06:57:43.225562Z",
     "iopub.status.idle": "2024-05-22T06:57:43.229536Z",
     "shell.execute_reply": "2024-05-22T06:57:43.228825Z",
     "shell.execute_reply.started": "2024-05-22T06:57:43.226027Z"
    },
    "tags": []
   },
   "outputs": [],
   "source": [
    "mappings = {\n",
    "        \"properties\": {\n",
    "            \"svc_mgmt_num\": {\"type\": \"keyword\"},\n",
    "            \"luna_id\": {\"type\": \"keyword\"},\n",
    "            \"age\": {\"type\": \"short\"},\n",
    "            \"gender\": {\"type\": \"short\"},\n",
    "            \"mno_profiles\": {\"type\": \"text\", \"analyzer\": \"standard\", \"search_analyzer\": \"standard\"},\n",
    "            \"adot_profiles\": {\"type\": \"text\", \"analyzer\": \"standard\", \"search_analyzer\": \"standard\"},\n",
    "            \"behavior_profiles\": {\"type\": \"text\", \"analyzer\": \"standard\", \"search_analyzer\": \"standard\"},\n",
    "            \"created_at\": {\"type\": \"date\", \"format\": \"yyyy-MM-dd HH:mm:ss\"},\n",
    "            \"is_adot\": {\"type\": \"boolean\"},\n",
    "            \"user_embedding\": {\n",
    "                \"type\": \"knn_vector\",\n",
    "                \"dimension\": 2048,\n",
    "                \"method\": {\n",
    "                    \"name\": \"hnsw\",\n",
    "                    \"space_type\": \"l2\",\n",
    "                    \"engine\": \"nmslib\",\n",
    "                    \"parameters\": {\"ef_construction\": 16, \"m\": 16},\n",
    "                },\n",
    "            },\n",
    "        }\n",
    "    }"
   ]
  },
  {
   "cell_type": "code",
   "execution_count": 104,
   "id": "2394eb84-1e3d-4afb-b305-ac2c6c020b23",
   "metadata": {
    "execution": {
     "iopub.execute_input": "2024-05-22T09:08:17.875016Z",
     "iopub.status.busy": "2024-05-22T09:08:17.874615Z",
     "iopub.status.idle": "2024-05-22T09:08:17.878286Z",
     "shell.execute_reply": "2024-05-22T09:08:17.877669Z",
     "shell.execute_reply.started": "2024-05-22T09:08:17.874985Z"
    },
    "tags": []
   },
   "outputs": [],
   "source": [
    "from datetime import datetime"
   ]
  },
  {
   "cell_type": "code",
   "execution_count": 126,
   "id": "ca6b6adc-0522-47f8-8fa8-a82ed1aa0041",
   "metadata": {
    "execution": {
     "iopub.execute_input": "2024-05-22T12:02:21.071247Z",
     "iopub.status.busy": "2024-05-22T12:02:21.070813Z",
     "iopub.status.idle": "2024-05-22T12:03:41.623932Z",
     "shell.execute_reply": "2024-05-22T12:03:41.622668Z",
     "shell.execute_reply.started": "2024-05-22T12:02:21.071212Z"
    },
    "tags": []
   },
   "outputs": [
    {
     "name": "stderr",
     "output_type": "stream",
     "text": [
      "                                                                                \r"
     ]
    }
   ],
   "source": [
    "# Step 2: Prepare Data for Bulk Indexing\n",
    "actions = []\n",
    "for row in sample_d.collect():\n",
    "    action = {\n",
    "        \"_op_type\": \"index\",\n",
    "        \"_index\": \"onemodel_v3_inital_test_20240512\",\n",
    "        \"_id\": row[\"svc_mgmt_num\"],\n",
    "        \"_source\": {\n",
    "            \"svc_mgmt_num\": row[\"svc_mgmt_num\"],\n",
    "            \"luna_id\": \"temp\",\n",
    "            \"user_embedding\": row[\"user_vector\"],\n",
    "            \"age\": row[\"age\"],\n",
    "            \"mno_profiles\": row[\"mno_profile\"],\n",
    "            \"adot_profiles\": row[\"adot_profile\"],\n",
    "            \"behavior_profiles\": row[\"behavor_profile\"],\n",
    "            \"created_at\": datetime.now().strftime(\"%Y-%m-%d %H:%M:%S\"),\n",
    "            \"is_adot\": True\n",
    "        }\n",
    "    }\n",
    "    actions.append(action)"
   ]
  },
  {
   "cell_type": "code",
   "execution_count": 121,
   "id": "c668bcf4-8e48-4dfd-aa32-b649f1f1cb45",
   "metadata": {
    "execution": {
     "iopub.execute_input": "2024-05-22T11:54:01.203570Z",
     "iopub.status.busy": "2024-05-22T11:54:01.202877Z",
     "iopub.status.idle": "2024-05-22T11:54:01.207547Z",
     "shell.execute_reply": "2024-05-22T11:54:01.206890Z",
     "shell.execute_reply.started": "2024-05-22T11:54:01.203524Z"
    },
    "tags": []
   },
   "outputs": [],
   "source": [
    "#actions[1]"
   ]
  },
  {
   "cell_type": "code",
   "execution_count": 128,
   "id": "9072190b-ddcd-4be4-9547-c611304d7072",
   "metadata": {
    "execution": {
     "iopub.execute_input": "2024-05-22T12:04:23.494107Z",
     "iopub.status.busy": "2024-05-22T12:04:23.493675Z",
     "iopub.status.idle": "2024-05-22T12:06:34.552529Z",
     "shell.execute_reply": "2024-05-22T12:06:34.551231Z",
     "shell.execute_reply.started": "2024-05-22T12:04:23.494059Z"
    },
    "tags": []
   },
   "outputs": [],
   "source": [
    "success, failed = helpers.bulk(client, actions, chunk_size=100)"
   ]
  },
  {
   "cell_type": "markdown",
   "id": "8f3d031a-8a88-4079-928f-b8a06c0f0124",
   "metadata": {},
   "source": [
    "# cretae opensearch Client"
   ]
  },
  {
   "cell_type": "code",
   "execution_count": 20,
   "id": "54d65881-869e-4e52-847e-cdd84ff1e331",
   "metadata": {
    "execution": {
     "iopub.execute_input": "2024-05-22T05:09:40.761335Z",
     "iopub.status.busy": "2024-05-22T05:09:40.760622Z",
     "iopub.status.idle": "2024-05-22T05:09:40.764979Z",
     "shell.execute_reply": "2024-05-22T05:09:40.764322Z",
     "shell.execute_reply.started": "2024-05-22T05:09:40.761271Z"
    },
    "tags": []
   },
   "outputs": [],
   "source": [
    "stg_vpce_opensearch = \"aos-ef399bbbead7-qs5jilysrng2oxiiayoxwtklki.ap-northeast-2.es.amazonaws.com\""
   ]
  },
  {
   "cell_type": "code",
   "execution_count": 21,
   "id": "cf5a3bf4-c5bb-4f64-94eb-c2732d72618c",
   "metadata": {
    "execution": {
     "iopub.execute_input": "2024-05-22T05:09:40.832346Z",
     "iopub.status.busy": "2024-05-22T05:09:40.831788Z",
     "iopub.status.idle": "2024-05-22T05:09:40.835143Z",
     "shell.execute_reply": "2024-05-22T05:09:40.834520Z",
     "shell.execute_reply.started": "2024-05-22T05:09:40.832305Z"
    },
    "tags": []
   },
   "outputs": [],
   "source": [
    "PORT = 443"
   ]
  },
  {
   "cell_type": "code",
   "execution_count": 22,
   "id": "fbe59667-c806-40eb-a496-a0271535c967",
   "metadata": {
    "execution": {
     "iopub.execute_input": "2024-05-22T05:09:40.940503Z",
     "iopub.status.busy": "2024-05-22T05:09:40.940047Z",
     "iopub.status.idle": "2024-05-22T05:09:40.943172Z",
     "shell.execute_reply": "2024-05-22T05:09:40.942580Z",
     "shell.execute_reply.started": "2024-05-22T05:09:40.940474Z"
    },
    "tags": []
   },
   "outputs": [],
   "source": [
    "from opensearchpy import helpers, OpenSearch"
   ]
  },
  {
   "cell_type": "code",
   "execution_count": 23,
   "id": "825c1c15-c862-434d-8d4f-bb4a4d6f5bc9",
   "metadata": {
    "execution": {
     "iopub.execute_input": "2024-05-22T05:09:41.275502Z",
     "iopub.status.busy": "2024-05-22T05:09:41.274970Z",
     "iopub.status.idle": "2024-05-22T05:09:41.279297Z",
     "shell.execute_reply": "2024-05-22T05:09:41.278707Z",
     "shell.execute_reply.started": "2024-05-22T05:09:41.275474Z"
    },
    "tags": []
   },
   "outputs": [],
   "source": [
    "client = OpenSearch(\n",
    "    hosts = [{\"host\": stg_vpce_opensearch, \"port\": PORT}],\n",
    "    http_compress=True,\n",
    "    use_ssl=True,\n",
    "    verify_certs=True,\n",
    "    timeout=2,\n",
    "    pool_maxsize=40,\n",
    "    http_auth=(\"TheMasterUser\", \"Developer_rec_stg1!\"),\n",
    ")"
   ]
  },
  {
   "cell_type": "code",
   "execution_count": 24,
   "id": "790624fa-ef33-46fd-8ac7-cc56ed0a7ecd",
   "metadata": {
    "execution": {
     "iopub.execute_input": "2024-05-22T05:09:44.902708Z",
     "iopub.status.busy": "2024-05-22T05:09:44.902227Z",
     "iopub.status.idle": "2024-05-22T05:09:44.905910Z",
     "shell.execute_reply": "2024-05-22T05:09:44.905286Z",
     "shell.execute_reply.started": "2024-05-22T05:09:44.902673Z"
    },
    "tags": []
   },
   "outputs": [],
   "source": [
    "#client.ping()"
   ]
  },
  {
   "cell_type": "code",
   "execution_count": null,
   "id": "f42f771c-bbe1-4b97-ad8c-fe3f25b147e1",
   "metadata": {},
   "outputs": [],
   "source": [
    "def gen_data("
   ]
  },
  {
   "cell_type": "code",
   "execution_count": 29,
   "id": "d23b09f2-d782-4153-8c2a-e544d39c254e",
   "metadata": {
    "execution": {
     "iopub.execute_input": "2024-05-22T05:10:08.785243Z",
     "iopub.status.busy": "2024-05-22T05:10:08.784735Z",
     "iopub.status.idle": "2024-05-22T05:10:08.789869Z",
     "shell.execute_reply": "2024-05-22T05:10:08.789103Z",
     "shell.execute_reply.started": "2024-05-22T05:10:08.785209Z"
    },
    "tags": []
   },
   "outputs": [],
   "source": [
    "def create_index(client, index_name, index_body):\n",
    "    \"\"\"\n",
    "    신규 인덱스를 정의한다\n",
    "    \"\"\"\n",
    "    #logging.info(\"start create index\")\n",
    "\n",
    "    # index creation\n",
    "    if not (client.indices.exists(index_name)):\n",
    "        #logging.info(\"[create_index] create new index\")\n",
    "        client.indices.create(index=index_name, body=index_body)\n",
    "        print(index_name)"
   ]
  },
  {
   "cell_type": "code",
   "execution_count": 7,
   "id": "a211d886-92ad-4975-ae1d-96170c520962",
   "metadata": {
    "execution": {
     "iopub.execute_input": "2024-05-22T05:09:08.292859Z",
     "iopub.status.busy": "2024-05-22T05:09:08.292332Z",
     "iopub.status.idle": "2024-05-22T05:09:08.297400Z",
     "shell.execute_reply": "2024-05-22T05:09:08.296730Z",
     "shell.execute_reply.started": "2024-05-22T05:09:08.292823Z"
    },
    "tags": []
   },
   "outputs": [],
   "source": [
    "def remove_index(client, index_name):\n",
    "    \"\"\"\n",
    "    인덱스를 삭제한다\n",
    "    \"\"\"\n",
    "    if client.indices.exists(index_name):\n",
    "        client.indices.delete(index=index_name)\n",
    "        #logging.info(f\"[remove_index] remove_index {index_name}\")"
   ]
  },
  {
   "cell_type": "code",
   "execution_count": null,
   "id": "82986ecb-c3a9-4dc5-845d-3e00da798de5",
   "metadata": {},
   "outputs": [],
   "source": [
    "def update_data(opensearch, index_name, basetime, number_of_shards):\n",
    "    \"\"\"\n",
    "    신규 데이터를 지정한 index_name으로 집어 넣는다.\n",
    "    \"\"\"\n",
    "    start_time = time.time()\n",
    "    resp = helpers.bulk(\n",
    "        opensearch, gen_data(index_name, basetime), chunk_size=4000, request_timeout=300\n",
    "    )\n",
    "    inference_time = time.time() - start_time\n",
    "    return resp, inference_time"
   ]
  },
  {
   "cell_type": "code",
   "execution_count": 41,
   "id": "263bad91-a09d-4fc5-a5be-df5f4340d37b",
   "metadata": {
    "execution": {
     "iopub.execute_input": "2024-05-22T05:38:33.195534Z",
     "iopub.status.busy": "2024-05-22T05:38:33.195066Z",
     "iopub.status.idle": "2024-05-22T05:38:33.836247Z",
     "shell.execute_reply": "2024-05-22T05:38:33.835483Z",
     "shell.execute_reply.started": "2024-05-22T05:38:33.195500Z"
    },
    "tags": []
   },
   "outputs": [
    {
     "name": "stdout",
     "output_type": "stream",
     "text": [
      "onemodel_v3_inital_test_20240512\n"
     ]
    }
   ],
   "source": [
    "create_index(client=client, index_name = \"onemodel_v3_inital_test_20240512\", index_body=index_body)"
   ]
  },
  {
   "cell_type": "code",
   "execution_count": 25,
   "id": "a68b52ea-884d-443e-8ef3-9699d0866386",
   "metadata": {
    "execution": {
     "iopub.execute_input": "2024-05-22T05:09:47.695601Z",
     "iopub.status.busy": "2024-05-22T05:09:47.695154Z",
     "iopub.status.idle": "2024-05-22T05:09:48.229037Z",
     "shell.execute_reply": "2024-05-22T05:09:48.227921Z",
     "shell.execute_reply.started": "2024-05-22T05:09:47.695567Z"
    },
    "tags": []
   },
   "outputs": [],
   "source": [
    "remove_index(client=client, index_name = \"onemodel_v3_inital_test\")"
   ]
  },
  {
   "cell_type": "code",
   "execution_count": null,
   "id": "806a3321-fc91-4b27-a75c-a41aa8510664",
   "metadata": {},
   "outputs": [],
   "source": []
  }
 ],
 "metadata": {
  "kernelspec": {
   "display_name": "Python 3 (ipykernel)",
   "language": "python",
   "name": "python3"
  },
  "language_info": {
   "codemirror_mode": {
    "name": "ipython",
    "version": 3
   },
   "file_extension": ".py",
   "mimetype": "text/x-python",
   "name": "python",
   "nbconvert_exporter": "python",
   "pygments_lexer": "ipython3",
   "version": "3.8.19"
  }
 },
 "nbformat": 4,
 "nbformat_minor": 5
}
